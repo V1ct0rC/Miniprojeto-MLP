{
  "nbformat": 4,
  "nbformat_minor": 0,
  "metadata": {
    "colab": {
      "provenance": [],
      "gpuType": "T4"
    },
    "kernelspec": {
      "name": "python3",
      "display_name": "Python 3"
    },
    "language_info": {
      "name": "python"
    },
    "accelerator": "GPU"
  },
  "cells": [
    {
      "cell_type": "markdown",
      "source": [
        "Sistemas Inteligntes - IF684EC\n",
        "# Miniprojeto Multilayer Perceptrons\n",
        "\n",
        "<p align=\"justify\">\n",
        "O projeto tem como objetivo introduzir a implementação de redes MLP (Multiplas camadas de Perceptron) e verificar o impacto de alguns parâmetros, como o numero de camadas e o ritmo de aprendizagem, nas métricas finais.\n",
        "\n",
        "### Equipe:\n",
        "> Jeferson Severino de Araújo (jsa2)\n",
        "\n",
        "> Lucas Nascimento Brandão (lnb)\n",
        "\n",
        "> Matheus Julío Boncsidai de Oliveira (mjbo)\n",
        "\n",
        "> Pedro Henrique Almeida Girão Peixinho (phagp)\n",
        "\n",
        "> Victor Gabriel de Carvalho (vgc3)"
      ],
      "metadata": {
        "id": "6Nn5cvcxod-H"
      }
    },
    {
      "cell_type": "markdown",
      "source": [
        "## Dataset\n",
        "<p align=\"justify\">\n",
        "A dor lombar pode ser causada por uma variedade de problemas que podem ocorrer em qualquer parte da rede complexa e interconectada de músculos, nervos, ossos, discos ou tendões da coluna lombar. Fontes típicas de dor lombar incluem:\n",
        "\n",
        "> As raízes nervosas na região lombar que vão para as pernas podem estar irritadas.\n",
        "\n",
        "> Os nervos menores que suprem a região lombar podem estar irritados.\n",
        "\n",
        "> Os pares de músculos inferiores das costas (eretores da espinha) podem ser tensos.\n",
        "\n",
        "> Os ossos, ligamentos ou articulações podem ser danificados.\n",
        "\n",
        "> Um disco intervertebral pode estar degenerando.\n",
        "\n",
        "<p align=\"justify\">\n",
        "Uma irritação ou problema em qualquer uma dessas estruturas pode causar dor lombar e/ou dor que irradia ou se refere a outras partes do corpo. Muitos problemas na parte inferior das costas também causam espasmos musculares nas costas, que não parecem muito, mas podem causar dor intensa e incapacidade.\n",
        "<p align=\"justify\">\n",
        "Embora a dor lombar seja extremamente comum, os sintomas e a gravidade da dor lombar variam muito. Uma simples tensão muscular na parte inferior das costas pode ser insuportável o suficiente para exigir uma visita ao pronto-socorro, enquanto um disco em degeneração pode causar apenas um desconforto leve e intermitente.\n",
        "<p align=\"justify\">\n",
        "Este conjunto de dados está prestes a identificar se uma pessoa é anormal ou normal usando detalhes/dados físicos da coluna vertebral coletados.\n",
        "<p align=\"justify\">\n",
        "O dataset é composto por 310 observações, cada uma com 13 atributos (12 preditores numéricos, 1 atributo de classe binária). Os atributos são:\n",
        "\n",
        "> Incidência pélvica - inclinação pélvica - Ângulo da lordose lombar\n",
        "\n",
        "> Inclinação sacral - Raio pélvico - Grau de espondilolistese\n",
        "\n",
        "> Declive pélvico - Inclinação direta - Declive torácico\n",
        "\n",
        "> Inclinação cervical - Ângulo sacro - Inclinação da escoliose\n",
        "\n",
        "Link: https://www.kaggle.com/datasets/sammy123/lower-back-pain-symptoms-dataset\n"
      ],
      "metadata": {
        "id": "1O8K5BnSqWRA"
      }
    },
    {
      "cell_type": "markdown",
      "source": [
        "\n",
        "\n",
        "---\n",
        "\n"
      ],
      "metadata": {
        "id": "cN5_HpLHsnWg"
      }
    },
    {
      "cell_type": "markdown",
      "source": [
        "## Implementação"
      ],
      "metadata": {
        "id": "YvPwdFApuW-f"
      }
    },
    {
      "cell_type": "markdown",
      "source": [
        "### Imports\n",
        "<p align=\"justify\">\n",
        "Será necessário o uso da biblioteca Pandas para uma melhor manipulação e tratamento dos dados. Além do Matplotlib para a sua visualização.\n",
        "\n",
        "Ademais, utilizaremos os seguintes módulos SKLearn:\n",
        "\n",
        "> MLPClassifier, que será nosso modelo MLP\n",
        "\n",
        "> train_test_split, para devidir eficientemente o dataset\n",
        "\n",
        "> MinMaxScaler, para escalorar os dados e garantir um melhor resultado\n",
        "\n",
        "> classification_report e confusion_matrix, para imprimir as métricas detalhadas\n",
        "\n",
        "<p align=\"justify\">\n",
        "Por estamos implementando pelo Collab, necessitamos do drive do google.colab para acessar nosso dataset na núvem.\n",
        "\n",
        "A utilização de cada uma será melhor explicada posteriormente."
      ],
      "metadata": {
        "id": "TZ1LBTkmxFbM"
      }
    },
    {
      "cell_type": "code",
      "source": [
        "import pandas as pd\n",
        "import matplotlib.pyplot as plt\n",
        "\n",
        "from sklearn.neural_network import MLPClassifier\n",
        "\n",
        "from sklearn.model_selection import train_test_split, GridSearchCV\n",
        "from sklearn.metrics import classification_report, confusion_matrix, ConfusionMatrixDisplay\n",
        "from sklearn.preprocessing import MinMaxScaler\n",
        "\n",
        "from imblearn.over_sampling import SMOTE\n",
        "\n",
        "%matplotlib inline\n",
        "\n",
        "from google.colab import drive\n",
        "drive.mount('/content/gdrive')"
      ],
      "metadata": {
        "colab": {
          "base_uri": "https://localhost:8080/"
        },
        "id": "BRk7BAyEvKfV",
        "outputId": "27a438be-a694-463b-e984-065b891b7a28"
      },
      "execution_count": 1,
      "outputs": [
        {
          "output_type": "stream",
          "name": "stdout",
          "text": [
            "Mounted at /content/gdrive\n"
          ]
        }
      ]
    },
    {
      "cell_type": "markdown",
      "source": [
        "\n",
        "\n",
        "---\n",
        "\n"
      ],
      "metadata": {
        "id": "tsEgP_TvstuU"
      }
    },
    {
      "cell_type": "markdown",
      "source": [
        "### Data Exploration\n",
        "<p align=\"justify\">\n",
        "Como já mencionado, temos 310 amostras de dados com 13 atributos cada. Tudo está armazenado em um arquivo csv. Será usada a função 'read_csv', que retornará um DataFrame Pandas."
      ],
      "metadata": {
        "id": "y1zVzvtMxIsE"
      }
    },
    {
      "cell_type": "code",
      "source": [
        "dataset = pd.read_csv('/content/gdrive/MyDrive/Sistemas Inteligentes/Miniprojeto MLP/Dataset_spine.csv')\n",
        "\n",
        "dataset.shape"
      ],
      "metadata": {
        "colab": {
          "base_uri": "https://localhost:8080/"
        },
        "id": "jq7J777Pv7wA",
        "outputId": "8ca04d49-4213-4a05-fe07-c7b5657d0327"
      },
      "execution_count": 2,
      "outputs": [
        {
          "output_type": "execute_result",
          "data": {
            "text/plain": [
              "(310, 14)"
            ]
          },
          "metadata": {},
          "execution_count": 2
        }
      ]
    },
    {
      "cell_type": "markdown",
      "source": [
        "Aqui utilizaremos o método 'head' para mostras as primeiras 5 linhas (amostras) dos datasets. Essa visualização ajuda a vermos o estado inicial dos dados."
      ],
      "metadata": {
        "id": "lx1qEwI9E1iL"
      }
    },
    {
      "cell_type": "code",
      "source": [
        "dataset.head()  # As primeiras 5 amostras"
      ],
      "metadata": {
        "colab": {
          "base_uri": "https://localhost:8080/",
          "height": 206
        },
        "id": "M_AB-cqhEnpo",
        "outputId": "ac16147b-65c5-445f-8203-aec49fb167a1"
      },
      "execution_count": 3,
      "outputs": [
        {
          "output_type": "execute_result",
          "data": {
            "text/plain": [
              "        Col1       Col2       Col3       Col4        Col5       Col6  \\\n",
              "0  63.027817  22.552586  39.609117  40.475232   98.672917  -0.254400   \n",
              "1  39.056951  10.060991  25.015378  28.995960  114.405425   4.564259   \n",
              "2  68.832021  22.218482  50.092194  46.613539  105.985135  -3.530317   \n",
              "3  69.297008  24.652878  44.311238  44.644130  101.868495  11.211523   \n",
              "4  49.712859   9.652075  28.317406  40.060784  108.168725   7.918501   \n",
              "\n",
              "       Col7     Col8     Col9     Col10      Col11    Col12 Class_att  \\\n",
              "0  0.744503  12.5661  14.5386  15.30468 -28.658501  43.5123  Abnormal   \n",
              "1  0.415186  12.8874  17.5323  16.78486 -25.530607  16.1102  Abnormal   \n",
              "2  0.474889  26.8343  17.4861  16.65897 -29.031888  19.2221  Abnormal   \n",
              "3  0.369345  23.5603  12.7074  11.42447 -30.470246  18.8329  Abnormal   \n",
              "4  0.543360  35.4940  15.9546   8.87237 -16.378376  24.9171  Abnormal   \n",
              "\n",
              "                                         Unnamed: 13  \n",
              "0                                                NaN  \n",
              "1                                                NaN  \n",
              "2  Prediction is done by using binary classificat...  \n",
              "3                                                NaN  \n",
              "4                                                NaN  "
            ],
            "text/html": [
              "\n",
              "  <div id=\"df-bf4ae7cc-52b1-4ab2-a87b-be44c020ef9b\" class=\"colab-df-container\">\n",
              "    <div>\n",
              "<style scoped>\n",
              "    .dataframe tbody tr th:only-of-type {\n",
              "        vertical-align: middle;\n",
              "    }\n",
              "\n",
              "    .dataframe tbody tr th {\n",
              "        vertical-align: top;\n",
              "    }\n",
              "\n",
              "    .dataframe thead th {\n",
              "        text-align: right;\n",
              "    }\n",
              "</style>\n",
              "<table border=\"1\" class=\"dataframe\">\n",
              "  <thead>\n",
              "    <tr style=\"text-align: right;\">\n",
              "      <th></th>\n",
              "      <th>Col1</th>\n",
              "      <th>Col2</th>\n",
              "      <th>Col3</th>\n",
              "      <th>Col4</th>\n",
              "      <th>Col5</th>\n",
              "      <th>Col6</th>\n",
              "      <th>Col7</th>\n",
              "      <th>Col8</th>\n",
              "      <th>Col9</th>\n",
              "      <th>Col10</th>\n",
              "      <th>Col11</th>\n",
              "      <th>Col12</th>\n",
              "      <th>Class_att</th>\n",
              "      <th>Unnamed: 13</th>\n",
              "    </tr>\n",
              "  </thead>\n",
              "  <tbody>\n",
              "    <tr>\n",
              "      <th>0</th>\n",
              "      <td>63.027817</td>\n",
              "      <td>22.552586</td>\n",
              "      <td>39.609117</td>\n",
              "      <td>40.475232</td>\n",
              "      <td>98.672917</td>\n",
              "      <td>-0.254400</td>\n",
              "      <td>0.744503</td>\n",
              "      <td>12.5661</td>\n",
              "      <td>14.5386</td>\n",
              "      <td>15.30468</td>\n",
              "      <td>-28.658501</td>\n",
              "      <td>43.5123</td>\n",
              "      <td>Abnormal</td>\n",
              "      <td>NaN</td>\n",
              "    </tr>\n",
              "    <tr>\n",
              "      <th>1</th>\n",
              "      <td>39.056951</td>\n",
              "      <td>10.060991</td>\n",
              "      <td>25.015378</td>\n",
              "      <td>28.995960</td>\n",
              "      <td>114.405425</td>\n",
              "      <td>4.564259</td>\n",
              "      <td>0.415186</td>\n",
              "      <td>12.8874</td>\n",
              "      <td>17.5323</td>\n",
              "      <td>16.78486</td>\n",
              "      <td>-25.530607</td>\n",
              "      <td>16.1102</td>\n",
              "      <td>Abnormal</td>\n",
              "      <td>NaN</td>\n",
              "    </tr>\n",
              "    <tr>\n",
              "      <th>2</th>\n",
              "      <td>68.832021</td>\n",
              "      <td>22.218482</td>\n",
              "      <td>50.092194</td>\n",
              "      <td>46.613539</td>\n",
              "      <td>105.985135</td>\n",
              "      <td>-3.530317</td>\n",
              "      <td>0.474889</td>\n",
              "      <td>26.8343</td>\n",
              "      <td>17.4861</td>\n",
              "      <td>16.65897</td>\n",
              "      <td>-29.031888</td>\n",
              "      <td>19.2221</td>\n",
              "      <td>Abnormal</td>\n",
              "      <td>Prediction is done by using binary classificat...</td>\n",
              "    </tr>\n",
              "    <tr>\n",
              "      <th>3</th>\n",
              "      <td>69.297008</td>\n",
              "      <td>24.652878</td>\n",
              "      <td>44.311238</td>\n",
              "      <td>44.644130</td>\n",
              "      <td>101.868495</td>\n",
              "      <td>11.211523</td>\n",
              "      <td>0.369345</td>\n",
              "      <td>23.5603</td>\n",
              "      <td>12.7074</td>\n",
              "      <td>11.42447</td>\n",
              "      <td>-30.470246</td>\n",
              "      <td>18.8329</td>\n",
              "      <td>Abnormal</td>\n",
              "      <td>NaN</td>\n",
              "    </tr>\n",
              "    <tr>\n",
              "      <th>4</th>\n",
              "      <td>49.712859</td>\n",
              "      <td>9.652075</td>\n",
              "      <td>28.317406</td>\n",
              "      <td>40.060784</td>\n",
              "      <td>108.168725</td>\n",
              "      <td>7.918501</td>\n",
              "      <td>0.543360</td>\n",
              "      <td>35.4940</td>\n",
              "      <td>15.9546</td>\n",
              "      <td>8.87237</td>\n",
              "      <td>-16.378376</td>\n",
              "      <td>24.9171</td>\n",
              "      <td>Abnormal</td>\n",
              "      <td>NaN</td>\n",
              "    </tr>\n",
              "  </tbody>\n",
              "</table>\n",
              "</div>\n",
              "    <div class=\"colab-df-buttons\">\n",
              "\n",
              "  <div class=\"colab-df-container\">\n",
              "    <button class=\"colab-df-convert\" onclick=\"convertToInteractive('df-bf4ae7cc-52b1-4ab2-a87b-be44c020ef9b')\"\n",
              "            title=\"Convert this dataframe to an interactive table.\"\n",
              "            style=\"display:none;\">\n",
              "\n",
              "  <svg xmlns=\"http://www.w3.org/2000/svg\" height=\"24px\" viewBox=\"0 -960 960 960\">\n",
              "    <path d=\"M120-120v-720h720v720H120Zm60-500h600v-160H180v160Zm220 220h160v-160H400v160Zm0 220h160v-160H400v160ZM180-400h160v-160H180v160Zm440 0h160v-160H620v160ZM180-180h160v-160H180v160Zm440 0h160v-160H620v160Z\"/>\n",
              "  </svg>\n",
              "    </button>\n",
              "\n",
              "  <style>\n",
              "    .colab-df-container {\n",
              "      display:flex;\n",
              "      gap: 12px;\n",
              "    }\n",
              "\n",
              "    .colab-df-convert {\n",
              "      background-color: #E8F0FE;\n",
              "      border: none;\n",
              "      border-radius: 50%;\n",
              "      cursor: pointer;\n",
              "      display: none;\n",
              "      fill: #1967D2;\n",
              "      height: 32px;\n",
              "      padding: 0 0 0 0;\n",
              "      width: 32px;\n",
              "    }\n",
              "\n",
              "    .colab-df-convert:hover {\n",
              "      background-color: #E2EBFA;\n",
              "      box-shadow: 0px 1px 2px rgba(60, 64, 67, 0.3), 0px 1px 3px 1px rgba(60, 64, 67, 0.15);\n",
              "      fill: #174EA6;\n",
              "    }\n",
              "\n",
              "    .colab-df-buttons div {\n",
              "      margin-bottom: 4px;\n",
              "    }\n",
              "\n",
              "    [theme=dark] .colab-df-convert {\n",
              "      background-color: #3B4455;\n",
              "      fill: #D2E3FC;\n",
              "    }\n",
              "\n",
              "    [theme=dark] .colab-df-convert:hover {\n",
              "      background-color: #434B5C;\n",
              "      box-shadow: 0px 1px 3px 1px rgba(0, 0, 0, 0.15);\n",
              "      filter: drop-shadow(0px 1px 2px rgba(0, 0, 0, 0.3));\n",
              "      fill: #FFFFFF;\n",
              "    }\n",
              "  </style>\n",
              "\n",
              "    <script>\n",
              "      const buttonEl =\n",
              "        document.querySelector('#df-bf4ae7cc-52b1-4ab2-a87b-be44c020ef9b button.colab-df-convert');\n",
              "      buttonEl.style.display =\n",
              "        google.colab.kernel.accessAllowed ? 'block' : 'none';\n",
              "\n",
              "      async function convertToInteractive(key) {\n",
              "        const element = document.querySelector('#df-bf4ae7cc-52b1-4ab2-a87b-be44c020ef9b');\n",
              "        const dataTable =\n",
              "          await google.colab.kernel.invokeFunction('convertToInteractive',\n",
              "                                                    [key], {});\n",
              "        if (!dataTable) return;\n",
              "\n",
              "        const docLinkHtml = 'Like what you see? Visit the ' +\n",
              "          '<a target=\"_blank\" href=https://colab.research.google.com/notebooks/data_table.ipynb>data table notebook</a>'\n",
              "          + ' to learn more about interactive tables.';\n",
              "        element.innerHTML = '';\n",
              "        dataTable['output_type'] = 'display_data';\n",
              "        await google.colab.output.renderOutput(dataTable, element);\n",
              "        const docLink = document.createElement('div');\n",
              "        docLink.innerHTML = docLinkHtml;\n",
              "        element.appendChild(docLink);\n",
              "      }\n",
              "    </script>\n",
              "  </div>\n",
              "\n",
              "\n",
              "<div id=\"df-e9abd064-0228-4b64-932a-6194ca7d3563\">\n",
              "  <button class=\"colab-df-quickchart\" onclick=\"quickchart('df-e9abd064-0228-4b64-932a-6194ca7d3563')\"\n",
              "            title=\"Suggest charts.\"\n",
              "            style=\"display:none;\">\n",
              "\n",
              "<svg xmlns=\"http://www.w3.org/2000/svg\" height=\"24px\"viewBox=\"0 0 24 24\"\n",
              "     width=\"24px\">\n",
              "    <g>\n",
              "        <path d=\"M19 3H5c-1.1 0-2 .9-2 2v14c0 1.1.9 2 2 2h14c1.1 0 2-.9 2-2V5c0-1.1-.9-2-2-2zM9 17H7v-7h2v7zm4 0h-2V7h2v10zm4 0h-2v-4h2v4z\"/>\n",
              "    </g>\n",
              "</svg>\n",
              "  </button>\n",
              "\n",
              "<style>\n",
              "  .colab-df-quickchart {\n",
              "      --bg-color: #E8F0FE;\n",
              "      --fill-color: #1967D2;\n",
              "      --hover-bg-color: #E2EBFA;\n",
              "      --hover-fill-color: #174EA6;\n",
              "      --disabled-fill-color: #AAA;\n",
              "      --disabled-bg-color: #DDD;\n",
              "  }\n",
              "\n",
              "  [theme=dark] .colab-df-quickchart {\n",
              "      --bg-color: #3B4455;\n",
              "      --fill-color: #D2E3FC;\n",
              "      --hover-bg-color: #434B5C;\n",
              "      --hover-fill-color: #FFFFFF;\n",
              "      --disabled-bg-color: #3B4455;\n",
              "      --disabled-fill-color: #666;\n",
              "  }\n",
              "\n",
              "  .colab-df-quickchart {\n",
              "    background-color: var(--bg-color);\n",
              "    border: none;\n",
              "    border-radius: 50%;\n",
              "    cursor: pointer;\n",
              "    display: none;\n",
              "    fill: var(--fill-color);\n",
              "    height: 32px;\n",
              "    padding: 0;\n",
              "    width: 32px;\n",
              "  }\n",
              "\n",
              "  .colab-df-quickchart:hover {\n",
              "    background-color: var(--hover-bg-color);\n",
              "    box-shadow: 0 1px 2px rgba(60, 64, 67, 0.3), 0 1px 3px 1px rgba(60, 64, 67, 0.15);\n",
              "    fill: var(--button-hover-fill-color);\n",
              "  }\n",
              "\n",
              "  .colab-df-quickchart-complete:disabled,\n",
              "  .colab-df-quickchart-complete:disabled:hover {\n",
              "    background-color: var(--disabled-bg-color);\n",
              "    fill: var(--disabled-fill-color);\n",
              "    box-shadow: none;\n",
              "  }\n",
              "\n",
              "  .colab-df-spinner {\n",
              "    border: 2px solid var(--fill-color);\n",
              "    border-color: transparent;\n",
              "    border-bottom-color: var(--fill-color);\n",
              "    animation:\n",
              "      spin 1s steps(1) infinite;\n",
              "  }\n",
              "\n",
              "  @keyframes spin {\n",
              "    0% {\n",
              "      border-color: transparent;\n",
              "      border-bottom-color: var(--fill-color);\n",
              "      border-left-color: var(--fill-color);\n",
              "    }\n",
              "    20% {\n",
              "      border-color: transparent;\n",
              "      border-left-color: var(--fill-color);\n",
              "      border-top-color: var(--fill-color);\n",
              "    }\n",
              "    30% {\n",
              "      border-color: transparent;\n",
              "      border-left-color: var(--fill-color);\n",
              "      border-top-color: var(--fill-color);\n",
              "      border-right-color: var(--fill-color);\n",
              "    }\n",
              "    40% {\n",
              "      border-color: transparent;\n",
              "      border-right-color: var(--fill-color);\n",
              "      border-top-color: var(--fill-color);\n",
              "    }\n",
              "    60% {\n",
              "      border-color: transparent;\n",
              "      border-right-color: var(--fill-color);\n",
              "    }\n",
              "    80% {\n",
              "      border-color: transparent;\n",
              "      border-right-color: var(--fill-color);\n",
              "      border-bottom-color: var(--fill-color);\n",
              "    }\n",
              "    90% {\n",
              "      border-color: transparent;\n",
              "      border-bottom-color: var(--fill-color);\n",
              "    }\n",
              "  }\n",
              "</style>\n",
              "\n",
              "  <script>\n",
              "    async function quickchart(key) {\n",
              "      const quickchartButtonEl =\n",
              "        document.querySelector('#' + key + ' button');\n",
              "      quickchartButtonEl.disabled = true;  // To prevent multiple clicks.\n",
              "      quickchartButtonEl.classList.add('colab-df-spinner');\n",
              "      try {\n",
              "        const charts = await google.colab.kernel.invokeFunction(\n",
              "            'suggestCharts', [key], {});\n",
              "      } catch (error) {\n",
              "        console.error('Error during call to suggestCharts:', error);\n",
              "      }\n",
              "      quickchartButtonEl.classList.remove('colab-df-spinner');\n",
              "      quickchartButtonEl.classList.add('colab-df-quickchart-complete');\n",
              "    }\n",
              "    (() => {\n",
              "      let quickchartButtonEl =\n",
              "        document.querySelector('#df-e9abd064-0228-4b64-932a-6194ca7d3563 button');\n",
              "      quickchartButtonEl.style.display =\n",
              "        google.colab.kernel.accessAllowed ? 'block' : 'none';\n",
              "    })();\n",
              "  </script>\n",
              "</div>\n",
              "    </div>\n",
              "  </div>\n"
            ]
          },
          "metadata": {},
          "execution_count": 3
        }
      ]
    },
    {
      "cell_type": "code",
      "source": [
        "dataset.sample(10)  # Dez amostas aleatórias"
      ],
      "metadata": {
        "colab": {
          "base_uri": "https://localhost:8080/",
          "height": 363
        },
        "id": "YQ2QM_UTD8d7",
        "outputId": "1e14be27-c806-45bd-cd4c-4a5477cf57a6"
      },
      "execution_count": 4,
      "outputs": [
        {
          "output_type": "execute_result",
          "data": {
            "text/plain": [
              "          Col1       Col2       Col3       Col4        Col5       Col6  \\\n",
              "300  50.676677   6.461501  35.000000  44.215175  116.587970  -0.214711   \n",
              "139  85.095503  21.069897  91.734792  64.025606  109.062312  38.032831   \n",
              "195  71.241764   5.268270  85.999584  65.973493  110.703107  38.259864   \n",
              "104  77.409333  29.396545  63.232302  48.012788  118.450731  93.563737   \n",
              "32   44.936675  17.443838  27.780576  27.492837  117.980324   5.569620   \n",
              "149  79.249671  23.944825  40.796698  55.304846   98.622512  36.706395   \n",
              "34   59.595540  31.998244  46.560252  27.597296  119.330354   1.474286   \n",
              "49   41.767732  17.899402  20.030886  23.868330  118.363389   2.062963   \n",
              "225  59.726140   7.724873  55.343485  52.001268  125.174221   3.235159   \n",
              "148  65.755679   9.832874  50.822895  55.922805  104.394959  39.307212   \n",
              "\n",
              "         Col7     Col8     Col9     Col10      Col11    Col12 Class_att  \\\n",
              "300  0.021178  18.7846   8.0070   9.74352  -1.228604  14.2547    Normal   \n",
              "139  0.481862  17.1681   8.4727  11.98150 -25.387556   8.3163  Abnormal   \n",
              "195  0.506379  23.0527  15.2430  14.14875 -19.895641   8.6239  Abnormal   \n",
              "104  0.375287  11.2385  12.9197  13.82148   6.079425  11.8698  Abnormal   \n",
              "32   0.816748  27.5218  13.8357  13.54721  -2.925586  36.0452  Abnormal   \n",
              "149  0.672570  29.0324  14.5804  16.56784  -0.269590  31.7726  Abnormal   \n",
              "34   0.477088   8.6051   8.3058   8.53700  -0.029028  40.5823  Abnormal   \n",
              "49   0.371351  21.1136   7.1646   9.82029  -6.841914  11.6156  Abnormal   \n",
              "225  0.080219  26.2021   8.7872   7.46821   3.916838  43.4384    Normal   \n",
              "148  0.081033  35.6242   7.4483  12.13128  -5.163605  43.2649  Abnormal   \n",
              "\n",
              "    Unnamed: 13  \n",
              "300         NaN  \n",
              "139         NaN  \n",
              "195         NaN  \n",
              "104         NaN  \n",
              "32          NaN  \n",
              "149         NaN  \n",
              "34          NaN  \n",
              "49          NaN  \n",
              "225         NaN  \n",
              "148         NaN  "
            ],
            "text/html": [
              "\n",
              "  <div id=\"df-3e4b44f2-73fa-4ca3-98c5-e1421ae21f91\" class=\"colab-df-container\">\n",
              "    <div>\n",
              "<style scoped>\n",
              "    .dataframe tbody tr th:only-of-type {\n",
              "        vertical-align: middle;\n",
              "    }\n",
              "\n",
              "    .dataframe tbody tr th {\n",
              "        vertical-align: top;\n",
              "    }\n",
              "\n",
              "    .dataframe thead th {\n",
              "        text-align: right;\n",
              "    }\n",
              "</style>\n",
              "<table border=\"1\" class=\"dataframe\">\n",
              "  <thead>\n",
              "    <tr style=\"text-align: right;\">\n",
              "      <th></th>\n",
              "      <th>Col1</th>\n",
              "      <th>Col2</th>\n",
              "      <th>Col3</th>\n",
              "      <th>Col4</th>\n",
              "      <th>Col5</th>\n",
              "      <th>Col6</th>\n",
              "      <th>Col7</th>\n",
              "      <th>Col8</th>\n",
              "      <th>Col9</th>\n",
              "      <th>Col10</th>\n",
              "      <th>Col11</th>\n",
              "      <th>Col12</th>\n",
              "      <th>Class_att</th>\n",
              "      <th>Unnamed: 13</th>\n",
              "    </tr>\n",
              "  </thead>\n",
              "  <tbody>\n",
              "    <tr>\n",
              "      <th>300</th>\n",
              "      <td>50.676677</td>\n",
              "      <td>6.461501</td>\n",
              "      <td>35.000000</td>\n",
              "      <td>44.215175</td>\n",
              "      <td>116.587970</td>\n",
              "      <td>-0.214711</td>\n",
              "      <td>0.021178</td>\n",
              "      <td>18.7846</td>\n",
              "      <td>8.0070</td>\n",
              "      <td>9.74352</td>\n",
              "      <td>-1.228604</td>\n",
              "      <td>14.2547</td>\n",
              "      <td>Normal</td>\n",
              "      <td>NaN</td>\n",
              "    </tr>\n",
              "    <tr>\n",
              "      <th>139</th>\n",
              "      <td>85.095503</td>\n",
              "      <td>21.069897</td>\n",
              "      <td>91.734792</td>\n",
              "      <td>64.025606</td>\n",
              "      <td>109.062312</td>\n",
              "      <td>38.032831</td>\n",
              "      <td>0.481862</td>\n",
              "      <td>17.1681</td>\n",
              "      <td>8.4727</td>\n",
              "      <td>11.98150</td>\n",
              "      <td>-25.387556</td>\n",
              "      <td>8.3163</td>\n",
              "      <td>Abnormal</td>\n",
              "      <td>NaN</td>\n",
              "    </tr>\n",
              "    <tr>\n",
              "      <th>195</th>\n",
              "      <td>71.241764</td>\n",
              "      <td>5.268270</td>\n",
              "      <td>85.999584</td>\n",
              "      <td>65.973493</td>\n",
              "      <td>110.703107</td>\n",
              "      <td>38.259864</td>\n",
              "      <td>0.506379</td>\n",
              "      <td>23.0527</td>\n",
              "      <td>15.2430</td>\n",
              "      <td>14.14875</td>\n",
              "      <td>-19.895641</td>\n",
              "      <td>8.6239</td>\n",
              "      <td>Abnormal</td>\n",
              "      <td>NaN</td>\n",
              "    </tr>\n",
              "    <tr>\n",
              "      <th>104</th>\n",
              "      <td>77.409333</td>\n",
              "      <td>29.396545</td>\n",
              "      <td>63.232302</td>\n",
              "      <td>48.012788</td>\n",
              "      <td>118.450731</td>\n",
              "      <td>93.563737</td>\n",
              "      <td>0.375287</td>\n",
              "      <td>11.2385</td>\n",
              "      <td>12.9197</td>\n",
              "      <td>13.82148</td>\n",
              "      <td>6.079425</td>\n",
              "      <td>11.8698</td>\n",
              "      <td>Abnormal</td>\n",
              "      <td>NaN</td>\n",
              "    </tr>\n",
              "    <tr>\n",
              "      <th>32</th>\n",
              "      <td>44.936675</td>\n",
              "      <td>17.443838</td>\n",
              "      <td>27.780576</td>\n",
              "      <td>27.492837</td>\n",
              "      <td>117.980324</td>\n",
              "      <td>5.569620</td>\n",
              "      <td>0.816748</td>\n",
              "      <td>27.5218</td>\n",
              "      <td>13.8357</td>\n",
              "      <td>13.54721</td>\n",
              "      <td>-2.925586</td>\n",
              "      <td>36.0452</td>\n",
              "      <td>Abnormal</td>\n",
              "      <td>NaN</td>\n",
              "    </tr>\n",
              "    <tr>\n",
              "      <th>149</th>\n",
              "      <td>79.249671</td>\n",
              "      <td>23.944825</td>\n",
              "      <td>40.796698</td>\n",
              "      <td>55.304846</td>\n",
              "      <td>98.622512</td>\n",
              "      <td>36.706395</td>\n",
              "      <td>0.672570</td>\n",
              "      <td>29.0324</td>\n",
              "      <td>14.5804</td>\n",
              "      <td>16.56784</td>\n",
              "      <td>-0.269590</td>\n",
              "      <td>31.7726</td>\n",
              "      <td>Abnormal</td>\n",
              "      <td>NaN</td>\n",
              "    </tr>\n",
              "    <tr>\n",
              "      <th>34</th>\n",
              "      <td>59.595540</td>\n",
              "      <td>31.998244</td>\n",
              "      <td>46.560252</td>\n",
              "      <td>27.597296</td>\n",
              "      <td>119.330354</td>\n",
              "      <td>1.474286</td>\n",
              "      <td>0.477088</td>\n",
              "      <td>8.6051</td>\n",
              "      <td>8.3058</td>\n",
              "      <td>8.53700</td>\n",
              "      <td>-0.029028</td>\n",
              "      <td>40.5823</td>\n",
              "      <td>Abnormal</td>\n",
              "      <td>NaN</td>\n",
              "    </tr>\n",
              "    <tr>\n",
              "      <th>49</th>\n",
              "      <td>41.767732</td>\n",
              "      <td>17.899402</td>\n",
              "      <td>20.030886</td>\n",
              "      <td>23.868330</td>\n",
              "      <td>118.363389</td>\n",
              "      <td>2.062963</td>\n",
              "      <td>0.371351</td>\n",
              "      <td>21.1136</td>\n",
              "      <td>7.1646</td>\n",
              "      <td>9.82029</td>\n",
              "      <td>-6.841914</td>\n",
              "      <td>11.6156</td>\n",
              "      <td>Abnormal</td>\n",
              "      <td>NaN</td>\n",
              "    </tr>\n",
              "    <tr>\n",
              "      <th>225</th>\n",
              "      <td>59.726140</td>\n",
              "      <td>7.724873</td>\n",
              "      <td>55.343485</td>\n",
              "      <td>52.001268</td>\n",
              "      <td>125.174221</td>\n",
              "      <td>3.235159</td>\n",
              "      <td>0.080219</td>\n",
              "      <td>26.2021</td>\n",
              "      <td>8.7872</td>\n",
              "      <td>7.46821</td>\n",
              "      <td>3.916838</td>\n",
              "      <td>43.4384</td>\n",
              "      <td>Normal</td>\n",
              "      <td>NaN</td>\n",
              "    </tr>\n",
              "    <tr>\n",
              "      <th>148</th>\n",
              "      <td>65.755679</td>\n",
              "      <td>9.832874</td>\n",
              "      <td>50.822895</td>\n",
              "      <td>55.922805</td>\n",
              "      <td>104.394959</td>\n",
              "      <td>39.307212</td>\n",
              "      <td>0.081033</td>\n",
              "      <td>35.6242</td>\n",
              "      <td>7.4483</td>\n",
              "      <td>12.13128</td>\n",
              "      <td>-5.163605</td>\n",
              "      <td>43.2649</td>\n",
              "      <td>Abnormal</td>\n",
              "      <td>NaN</td>\n",
              "    </tr>\n",
              "  </tbody>\n",
              "</table>\n",
              "</div>\n",
              "    <div class=\"colab-df-buttons\">\n",
              "\n",
              "  <div class=\"colab-df-container\">\n",
              "    <button class=\"colab-df-convert\" onclick=\"convertToInteractive('df-3e4b44f2-73fa-4ca3-98c5-e1421ae21f91')\"\n",
              "            title=\"Convert this dataframe to an interactive table.\"\n",
              "            style=\"display:none;\">\n",
              "\n",
              "  <svg xmlns=\"http://www.w3.org/2000/svg\" height=\"24px\" viewBox=\"0 -960 960 960\">\n",
              "    <path d=\"M120-120v-720h720v720H120Zm60-500h600v-160H180v160Zm220 220h160v-160H400v160Zm0 220h160v-160H400v160ZM180-400h160v-160H180v160Zm440 0h160v-160H620v160ZM180-180h160v-160H180v160Zm440 0h160v-160H620v160Z\"/>\n",
              "  </svg>\n",
              "    </button>\n",
              "\n",
              "  <style>\n",
              "    .colab-df-container {\n",
              "      display:flex;\n",
              "      gap: 12px;\n",
              "    }\n",
              "\n",
              "    .colab-df-convert {\n",
              "      background-color: #E8F0FE;\n",
              "      border: none;\n",
              "      border-radius: 50%;\n",
              "      cursor: pointer;\n",
              "      display: none;\n",
              "      fill: #1967D2;\n",
              "      height: 32px;\n",
              "      padding: 0 0 0 0;\n",
              "      width: 32px;\n",
              "    }\n",
              "\n",
              "    .colab-df-convert:hover {\n",
              "      background-color: #E2EBFA;\n",
              "      box-shadow: 0px 1px 2px rgba(60, 64, 67, 0.3), 0px 1px 3px 1px rgba(60, 64, 67, 0.15);\n",
              "      fill: #174EA6;\n",
              "    }\n",
              "\n",
              "    .colab-df-buttons div {\n",
              "      margin-bottom: 4px;\n",
              "    }\n",
              "\n",
              "    [theme=dark] .colab-df-convert {\n",
              "      background-color: #3B4455;\n",
              "      fill: #D2E3FC;\n",
              "    }\n",
              "\n",
              "    [theme=dark] .colab-df-convert:hover {\n",
              "      background-color: #434B5C;\n",
              "      box-shadow: 0px 1px 3px 1px rgba(0, 0, 0, 0.15);\n",
              "      filter: drop-shadow(0px 1px 2px rgba(0, 0, 0, 0.3));\n",
              "      fill: #FFFFFF;\n",
              "    }\n",
              "  </style>\n",
              "\n",
              "    <script>\n",
              "      const buttonEl =\n",
              "        document.querySelector('#df-3e4b44f2-73fa-4ca3-98c5-e1421ae21f91 button.colab-df-convert');\n",
              "      buttonEl.style.display =\n",
              "        google.colab.kernel.accessAllowed ? 'block' : 'none';\n",
              "\n",
              "      async function convertToInteractive(key) {\n",
              "        const element = document.querySelector('#df-3e4b44f2-73fa-4ca3-98c5-e1421ae21f91');\n",
              "        const dataTable =\n",
              "          await google.colab.kernel.invokeFunction('convertToInteractive',\n",
              "                                                    [key], {});\n",
              "        if (!dataTable) return;\n",
              "\n",
              "        const docLinkHtml = 'Like what you see? Visit the ' +\n",
              "          '<a target=\"_blank\" href=https://colab.research.google.com/notebooks/data_table.ipynb>data table notebook</a>'\n",
              "          + ' to learn more about interactive tables.';\n",
              "        element.innerHTML = '';\n",
              "        dataTable['output_type'] = 'display_data';\n",
              "        await google.colab.output.renderOutput(dataTable, element);\n",
              "        const docLink = document.createElement('div');\n",
              "        docLink.innerHTML = docLinkHtml;\n",
              "        element.appendChild(docLink);\n",
              "      }\n",
              "    </script>\n",
              "  </div>\n",
              "\n",
              "\n",
              "<div id=\"df-b52b2df9-e606-491b-b80a-17cc24f25ff6\">\n",
              "  <button class=\"colab-df-quickchart\" onclick=\"quickchart('df-b52b2df9-e606-491b-b80a-17cc24f25ff6')\"\n",
              "            title=\"Suggest charts.\"\n",
              "            style=\"display:none;\">\n",
              "\n",
              "<svg xmlns=\"http://www.w3.org/2000/svg\" height=\"24px\"viewBox=\"0 0 24 24\"\n",
              "     width=\"24px\">\n",
              "    <g>\n",
              "        <path d=\"M19 3H5c-1.1 0-2 .9-2 2v14c0 1.1.9 2 2 2h14c1.1 0 2-.9 2-2V5c0-1.1-.9-2-2-2zM9 17H7v-7h2v7zm4 0h-2V7h2v10zm4 0h-2v-4h2v4z\"/>\n",
              "    </g>\n",
              "</svg>\n",
              "  </button>\n",
              "\n",
              "<style>\n",
              "  .colab-df-quickchart {\n",
              "      --bg-color: #E8F0FE;\n",
              "      --fill-color: #1967D2;\n",
              "      --hover-bg-color: #E2EBFA;\n",
              "      --hover-fill-color: #174EA6;\n",
              "      --disabled-fill-color: #AAA;\n",
              "      --disabled-bg-color: #DDD;\n",
              "  }\n",
              "\n",
              "  [theme=dark] .colab-df-quickchart {\n",
              "      --bg-color: #3B4455;\n",
              "      --fill-color: #D2E3FC;\n",
              "      --hover-bg-color: #434B5C;\n",
              "      --hover-fill-color: #FFFFFF;\n",
              "      --disabled-bg-color: #3B4455;\n",
              "      --disabled-fill-color: #666;\n",
              "  }\n",
              "\n",
              "  .colab-df-quickchart {\n",
              "    background-color: var(--bg-color);\n",
              "    border: none;\n",
              "    border-radius: 50%;\n",
              "    cursor: pointer;\n",
              "    display: none;\n",
              "    fill: var(--fill-color);\n",
              "    height: 32px;\n",
              "    padding: 0;\n",
              "    width: 32px;\n",
              "  }\n",
              "\n",
              "  .colab-df-quickchart:hover {\n",
              "    background-color: var(--hover-bg-color);\n",
              "    box-shadow: 0 1px 2px rgba(60, 64, 67, 0.3), 0 1px 3px 1px rgba(60, 64, 67, 0.15);\n",
              "    fill: var(--button-hover-fill-color);\n",
              "  }\n",
              "\n",
              "  .colab-df-quickchart-complete:disabled,\n",
              "  .colab-df-quickchart-complete:disabled:hover {\n",
              "    background-color: var(--disabled-bg-color);\n",
              "    fill: var(--disabled-fill-color);\n",
              "    box-shadow: none;\n",
              "  }\n",
              "\n",
              "  .colab-df-spinner {\n",
              "    border: 2px solid var(--fill-color);\n",
              "    border-color: transparent;\n",
              "    border-bottom-color: var(--fill-color);\n",
              "    animation:\n",
              "      spin 1s steps(1) infinite;\n",
              "  }\n",
              "\n",
              "  @keyframes spin {\n",
              "    0% {\n",
              "      border-color: transparent;\n",
              "      border-bottom-color: var(--fill-color);\n",
              "      border-left-color: var(--fill-color);\n",
              "    }\n",
              "    20% {\n",
              "      border-color: transparent;\n",
              "      border-left-color: var(--fill-color);\n",
              "      border-top-color: var(--fill-color);\n",
              "    }\n",
              "    30% {\n",
              "      border-color: transparent;\n",
              "      border-left-color: var(--fill-color);\n",
              "      border-top-color: var(--fill-color);\n",
              "      border-right-color: var(--fill-color);\n",
              "    }\n",
              "    40% {\n",
              "      border-color: transparent;\n",
              "      border-right-color: var(--fill-color);\n",
              "      border-top-color: var(--fill-color);\n",
              "    }\n",
              "    60% {\n",
              "      border-color: transparent;\n",
              "      border-right-color: var(--fill-color);\n",
              "    }\n",
              "    80% {\n",
              "      border-color: transparent;\n",
              "      border-right-color: var(--fill-color);\n",
              "      border-bottom-color: var(--fill-color);\n",
              "    }\n",
              "    90% {\n",
              "      border-color: transparent;\n",
              "      border-bottom-color: var(--fill-color);\n",
              "    }\n",
              "  }\n",
              "</style>\n",
              "\n",
              "  <script>\n",
              "    async function quickchart(key) {\n",
              "      const quickchartButtonEl =\n",
              "        document.querySelector('#' + key + ' button');\n",
              "      quickchartButtonEl.disabled = true;  // To prevent multiple clicks.\n",
              "      quickchartButtonEl.classList.add('colab-df-spinner');\n",
              "      try {\n",
              "        const charts = await google.colab.kernel.invokeFunction(\n",
              "            'suggestCharts', [key], {});\n",
              "      } catch (error) {\n",
              "        console.error('Error during call to suggestCharts:', error);\n",
              "      }\n",
              "      quickchartButtonEl.classList.remove('colab-df-spinner');\n",
              "      quickchartButtonEl.classList.add('colab-df-quickchart-complete');\n",
              "    }\n",
              "    (() => {\n",
              "      let quickchartButtonEl =\n",
              "        document.querySelector('#df-b52b2df9-e606-491b-b80a-17cc24f25ff6 button');\n",
              "      quickchartButtonEl.style.display =\n",
              "        google.colab.kernel.accessAllowed ? 'block' : 'none';\n",
              "    })();\n",
              "  </script>\n",
              "</div>\n",
              "    </div>\n",
              "  </div>\n"
            ]
          },
          "metadata": {},
          "execution_count": 4
        }
      ]
    },
    {
      "cell_type": "markdown",
      "source": [
        "<p align=\"justify\">\n",
        "O código abaixo cria um conjunto de gráficos de histograma para visualizar a frequência da distribuição de dados em cada uma das colunas do dataset. Esses gráficos são úteis para entender a distribuição dos dados e podem ajudar a identificar tendências, outliers e outras características dos seus dados.\n",
        "\n",
        "> <p align=\"justify\"> Vale salientar que as duas ultimas colunas foram excluídas dessa análise, por se tratar dos labels ou de valores irrelevantes."
      ],
      "metadata": {
        "id": "NT5RC0qQeoYx"
      }
    },
    {
      "cell_type": "code",
      "source": [
        "columns = dataset.columns[:-2]\n",
        "\n",
        "# Cria subplots com o mesmo número de colunas (atributos) no dataset\n",
        "fig, axes = plt.subplots(nrows=1, ncols=len(columns), figsize=(24, 3))  # Adjust figsize as needed\n",
        "\n",
        "# Cria um plot histrograma para cada coluna\n",
        "for i, col in enumerate(columns):\n",
        "    dataset[col].plot(kind='hist', ax=axes[i], bins=10, color='skyblue')\n",
        "    axes[i].set_title(col)\n",
        "\n",
        "plt.tight_layout()  # Espaçamento entre subplots\n",
        "plt.show()"
      ],
      "metadata": {
        "colab": {
          "base_uri": "https://localhost:8080/",
          "height": 261
        },
        "id": "i-OGzrkHb6wc",
        "outputId": "c446fde7-1c43-47a5-8d5d-42886ce5f307"
      },
      "execution_count": 5,
      "outputs": [
        {
          "output_type": "display_data",
          "data": {
            "text/plain": [
              "<Figure size 2400x300 with 12 Axes>"
            ],
            "image/png": "[encoded data removed]"
          },
          "metadata": {}
        }
      ]
    },
    {
      "cell_type": "markdown",
      "source": [
        "<p align=\"justify\">\n",
        "Semelhantemente, o trecho a segur cria um gráfico de barras para visualizar as médias dos valores de cada coluna. Permitindo uma rápida visualização das tendências centrais dos dados em cada coluna."
      ],
      "metadata": {
        "id": "mIAi4Q1mfR0X"
      }
    },
    {
      "cell_type": "code",
      "source": [
        "column_means = dataset.mean(numeric_only=True)\n",
        "\n",
        "# Plota as médias de cada atributo\n",
        "plt.figure(figsize=(8, 6))\n",
        "column_means.plot(kind='bar', color='skyblue')\n",
        "plt.title('Médias para cada atributo')\n",
        "plt.xlabel('Atributo')\n",
        "plt.ylabel('Valor médio')\n",
        "plt.xticks(rotation=45)\n",
        "plt.show()"
      ],
      "metadata": {
        "colab": {
          "base_uri": "https://localhost:8080/",
          "height": 589
        },
        "id": "ycqdtEyxdC-e",
        "outputId": "d48a297d-83a6-497d-e818-d923980b5d0c"
      },
      "execution_count": 6,
      "outputs": [
        {
          "output_type": "display_data",
          "data": {
            "text/plain": [
              "<Figure size 800x600 with 1 Axes>"
            ],
            "image/png": "[encoded data removed]"
          },
          "metadata": {}
        }
      ]
    },
    {
      "cell_type": "markdown",
      "source": [
        "<p align=\"justify\">\n",
        "Finalmente, O código a seguir calcula as médias de cada coluna para cada classe no dataset (Normal ou Abnormal), e cria um gráfico de barras para visualizar as médias por classe para cada coluna.\n",
        "\n",
        "> <p align=\"justify\"> Nesse caso, utilizamos os labels."
      ],
      "metadata": {
        "id": "DsG9GhVmf2RU"
      }
    },
    {
      "cell_type": "code",
      "source": [
        "# Calcula a média de cada coluna para cada classe\n",
        "means_by_class = dataset.groupby('Class_att').mean(numeric_only=True)\n",
        "\n",
        "# Transpõe o dataset\n",
        "means_by_class = means_by_class.transpose()\n",
        "\n",
        "# Plota as médias para cada classe\n",
        "plt.figure(figsize=(12, 6))\n",
        "means_by_class.plot(kind='bar', color=['skyblue', 'lightcoral'])\n",
        "plt.title('Médias para cada atributo em cada classe')\n",
        "plt.xlabel('Atributo')\n",
        "plt.ylabel('Valor médio')\n",
        "plt.xticks(rotation=0)\n",
        "plt.legend(title='Classes', bbox_to_anchor=(1, 1))\n",
        "plt.tight_layout()\n",
        "plt.show()"
      ],
      "metadata": {
        "colab": {
          "base_uri": "https://localhost:8080/",
          "height": 505
        },
        "id": "wDdnJ5rPdQd-",
        "outputId": "27fff569-4e7c-424a-965b-edc27f32a641"
      },
      "execution_count": 7,
      "outputs": [
        {
          "output_type": "display_data",
          "data": {
            "text/plain": [
              "<Figure size 1200x600 with 0 Axes>"
            ]
          },
          "metadata": {}
        },
        {
          "output_type": "display_data",
          "data": {
            "text/plain": [
              "<Figure size 640x480 with 1 Axes>"
            ],
            "image/png": "[encoded data removed]"
          },
          "metadata": {}
        }
      ]
    },
    {
      "cell_type": "markdown",
      "source": [
        "<p align=\"justify\">\n",
        "Aqui abaixo está um exemplo do agrupamento acima, porém com apenas um atribulo, permitindo uma visualização mais detalhada."
      ],
      "metadata": {
        "id": "7Lgyut1egW9i"
      }
    },
    {
      "cell_type": "code",
      "source": [
        "# Calcula a média de Col2 para cada classe\n",
        "class_means = dataset.groupby('Class_att')['Col2'].mean()\n",
        "\n",
        "# Plota as médias de Col 2 para cada classe\n",
        "plt.figure(figsize=(8, 6))\n",
        "class_means.plot(kind='bar', color=['skyblue', 'lightcoral'])\n",
        "plt.title('Média de Col2 Value por classe')\n",
        "plt.xlabel('Classe')\n",
        "plt.ylabel('Valor médio')\n",
        "plt.xticks(rotation=0)\n",
        "plt.legend()\n",
        "plt.show()"
      ],
      "metadata": {
        "colab": {
          "base_uri": "https://localhost:8080/",
          "height": 565
        },
        "id": "UjJ5J2kud0Rk",
        "outputId": "d20269e7-8c5d-45b3-d85c-30c80810e645"
      },
      "execution_count": 8,
      "outputs": [
        {
          "output_type": "display_data",
          "data": {
            "text/plain": [
              "<Figure size 800x600 with 1 Axes>"
            ],
            "image/png": "[encoded data removed]"
          },
          "metadata": {}
        }
      ]
    },
    {
      "cell_type": "markdown",
      "source": [
        "Agora, usaremos a representação de box plot para representarmos a distribuição de amostras dentro de cada atributo. Isso ajudaria a identificar valores anômalos (outliers) que não possuem considrável importância estatística. Esses valores serão removidos posteriormente."
      ],
      "metadata": {
        "id": "u1iTIJjACbZU"
      }
    },
    {
      "cell_type": "code",
      "source": [
        "numerical_attributes = dataset.drop(columns=['Class_att', 'Unnamed: 13'])\n",
        "\n",
        "# Create a boxplot for the numerical attributes\n",
        "plt.figure(figsize=(10, 6))\n",
        "numerical_attributes.boxplot()\n",
        "plt.title('Boxplot dos Atributos')\n",
        "plt.xlabel('Atributo')\n",
        "plt.ylabel('Valor')\n",
        "plt.xticks(rotation=45)\n",
        "plt.show()"
      ],
      "metadata": {
        "colab": {
          "base_uri": "https://localhost:8080/",
          "height": 588
        },
        "id": "0kfzKFr-Cw89",
        "outputId": "d6ecfa57-5e81-4ef1-cf23-bc693385c51c"
      },
      "execution_count": 9,
      "outputs": [
        {
          "output_type": "display_data",
          "data": {
            "text/plain": [
              "<Figure size 1000x600 with 1 Axes>"
            ],
            "image/png": "[encoded data removed]"
          },
          "metadata": {}
        }
      ]
    },
    {
      "cell_type": "markdown",
      "source": [
        "---"
      ],
      "metadata": {
        "id": "zr_frUQvsxhh"
      }
    },
    {
      "cell_type": "markdown",
      "source": [
        "### Data Cleaning\n",
        "<p align=\"justify\">\n",
        "Antes prosseguirmos com a classificação, precisamos fazer uma limpesa nos dados, eliminando valores irrelevenates ou que possam prejudicar o modelo. No caso desse dataset, devemos remover a coluna 13 (que possui apenas algumas informações sobre os dados e a maioria das linhas é NaN)."
      ],
      "metadata": {
        "id": "0LmbQ33RD4su"
      }
    },
    {
      "cell_type": "code",
      "source": [
        "dataset = dataset.drop(\"Unnamed: 13\", axis=1)  # Removendo coluna desnecessária\n",
        "\n",
        "dataset.sample(5)  # Cinco amostas aleatórias"
      ],
      "metadata": {
        "colab": {
          "base_uri": "https://localhost:8080/",
          "height": 206
        },
        "id": "dsaNAZoOxMFb",
        "outputId": "e95732c8-75b5-4692-d99b-a186c762b605"
      },
      "execution_count": 10,
      "outputs": [
        {
          "output_type": "execute_result",
          "data": {
            "text/plain": [
              "          Col1       Col2       Col3       Col4        Col5       Col6  \\\n",
              "43   66.285394  26.327845  47.500000  39.957549  121.219684  -0.799624   \n",
              "161  67.263149   7.194661  51.696887  60.068488   97.801085  42.136943   \n",
              "287  33.041688  -0.324678  19.071075  33.366366  120.388611   9.354365   \n",
              "240  41.646916   8.835549  36.031975  32.811367  116.555168  -6.054538   \n",
              "216  50.913101   6.677000  30.896522  44.236102  118.151531  -1.057986   \n",
              "\n",
              "         Col7     Col8     Col9     Col10      Col11    Col12 Class_att  \n",
              "43   0.647626   9.0466  10.2636  13.50349   1.138079  34.3683  Abnormal  \n",
              "161  0.936623  17.7459   9.6738   7.23554 -32.437830  33.0292  Abnormal  \n",
              "287  0.167309  17.1960  11.2466   9.14463 -29.114560  40.9249    Normal  \n",
              "240  0.098119  10.0549   8.7771   8.64451  -5.079724  29.4263    Normal  \n",
              "216  0.038359  35.6096  13.0974  12.04558  -9.237245  31.7220    Normal  "
            ],
            "text/html": [
              "\n",
              "  <div id=\"df-ca1b52ad-a914-4f65-8e38-716f800e2893\" class=\"colab-df-container\">\n",
              "    <div>\n",
              "<style scoped>\n",
              "    .dataframe tbody tr th:only-of-type {\n",
              "        vertical-align: middle;\n",
              "    }\n",
              "\n",
              "    .dataframe tbody tr th {\n",
              "        vertical-align: top;\n",
              "    }\n",
              "\n",
              "    .dataframe thead th {\n",
              "        text-align: right;\n",
              "    }\n",
              "</style>\n",
              "<table border=\"1\" class=\"dataframe\">\n",
              "  <thead>\n",
              "    <tr style=\"text-align: right;\">\n",
              "      <th></th>\n",
              "      <th>Col1</th>\n",
              "      <th>Col2</th>\n",
              "      <th>Col3</th>\n",
              "      <th>Col4</th>\n",
              "      <th>Col5</th>\n",
              "      <th>Col6</th>\n",
              "      <th>Col7</th>\n",
              "      <th>Col8</th>\n",
              "      <th>Col9</th>\n",
              "      <th>Col10</th>\n",
              "      <th>Col11</th>\n",
              "      <th>Col12</th>\n",
              "      <th>Class_att</th>\n",
              "    </tr>\n",
              "  </thead>\n",
              "  <tbody>\n",
              "    <tr>\n",
              "      <th>43</th>\n",
              "      <td>66.285394</td>\n",
              "      <td>26.327845</td>\n",
              "      <td>47.500000</td>\n",
              "      <td>39.957549</td>\n",
              "      <td>121.219684</td>\n",
              "      <td>-0.799624</td>\n",
              "      <td>0.647626</td>\n",
              "      <td>9.0466</td>\n",
              "      <td>10.2636</td>\n",
              "      <td>13.50349</td>\n",
              "      <td>1.138079</td>\n",
              "      <td>34.3683</td>\n",
              "      <td>Abnormal</td>\n",
              "    </tr>\n",
              "    <tr>\n",
              "      <th>161</th>\n",
              "      <td>67.263149</td>\n",
              "      <td>7.194661</td>\n",
              "      <td>51.696887</td>\n",
              "      <td>60.068488</td>\n",
              "      <td>97.801085</td>\n",
              "      <td>42.136943</td>\n",
              "      <td>0.936623</td>\n",
              "      <td>17.7459</td>\n",
              "      <td>9.6738</td>\n",
              "      <td>7.23554</td>\n",
              "      <td>-32.437830</td>\n",
              "      <td>33.0292</td>\n",
              "      <td>Abnormal</td>\n",
              "    </tr>\n",
              "    <tr>\n",
              "      <th>287</th>\n",
              "      <td>33.041688</td>\n",
              "      <td>-0.324678</td>\n",
              "      <td>19.071075</td>\n",
              "      <td>33.366366</td>\n",
              "      <td>120.388611</td>\n",
              "      <td>9.354365</td>\n",
              "      <td>0.167309</td>\n",
              "      <td>17.1960</td>\n",
              "      <td>11.2466</td>\n",
              "      <td>9.14463</td>\n",
              "      <td>-29.114560</td>\n",
              "      <td>40.9249</td>\n",
              "      <td>Normal</td>\n",
              "    </tr>\n",
              "    <tr>\n",
              "      <th>240</th>\n",
              "      <td>41.646916</td>\n",
              "      <td>8.835549</td>\n",
              "      <td>36.031975</td>\n",
              "      <td>32.811367</td>\n",
              "      <td>116.555168</td>\n",
              "      <td>-6.054538</td>\n",
              "      <td>0.098119</td>\n",
              "      <td>10.0549</td>\n",
              "      <td>8.7771</td>\n",
              "      <td>8.64451</td>\n",
              "      <td>-5.079724</td>\n",
              "      <td>29.4263</td>\n",
              "      <td>Normal</td>\n",
              "    </tr>\n",
              "    <tr>\n",
              "      <th>216</th>\n",
              "      <td>50.913101</td>\n",
              "      <td>6.677000</td>\n",
              "      <td>30.896522</td>\n",
              "      <td>44.236102</td>\n",
              "      <td>118.151531</td>\n",
              "      <td>-1.057986</td>\n",
              "      <td>0.038359</td>\n",
              "      <td>35.6096</td>\n",
              "      <td>13.0974</td>\n",
              "      <td>12.04558</td>\n",
              "      <td>-9.237245</td>\n",
              "      <td>31.7220</td>\n",
              "      <td>Normal</td>\n",
              "    </tr>\n",
              "  </tbody>\n",
              "</table>\n",
              "</div>\n",
              "    <div class=\"colab-df-buttons\">\n",
              "\n",
              "  <div class=\"colab-df-container\">\n",
              "    <button class=\"colab-df-convert\" onclick=\"convertToInteractive('df-ca1b52ad-a914-4f65-8e38-716f800e2893')\"\n",
              "            title=\"Convert this dataframe to an interactive table.\"\n",
              "            style=\"display:none;\">\n",
              "\n",
              "  <svg xmlns=\"http://www.w3.org/2000/svg\" height=\"24px\" viewBox=\"0 -960 960 960\">\n",
              "    <path d=\"M120-120v-720h720v720H120Zm60-500h600v-160H180v160Zm220 220h160v-160H400v160Zm0 220h160v-160H400v160ZM180-400h160v-160H180v160Zm440 0h160v-160H620v160ZM180-180h160v-160H180v160Zm440 0h160v-160H620v160Z\"/>\n",
              "  </svg>\n",
              "    </button>\n",
              "\n",
              "  <style>\n",
              "    .colab-df-container {\n",
              "      display:flex;\n",
              "      gap: 12px;\n",
              "    }\n",
              "\n",
              "    .colab-df-convert {\n",
              "      background-color: #E8F0FE;\n",
              "      border: none;\n",
              "      border-radius: 50%;\n",
              "      cursor: pointer;\n",
              "      display: none;\n",
              "      fill: #1967D2;\n",
              "      height: 32px;\n",
              "      padding: 0 0 0 0;\n",
              "      width: 32px;\n",
              "    }\n",
              "\n",
              "    .colab-df-convert:hover {\n",
              "      background-color: #E2EBFA;\n",
              "      box-shadow: 0px 1px 2px rgba(60, 64, 67, 0.3), 0px 1px 3px 1px rgba(60, 64, 67, 0.15);\n",
              "      fill: #174EA6;\n",
              "    }\n",
              "\n",
              "    .colab-df-buttons div {\n",
              "      margin-bottom: 4px;\n",
              "    }\n",
              "\n",
              "    [theme=dark] .colab-df-convert {\n",
              "      background-color: #3B4455;\n",
              "      fill: #D2E3FC;\n",
              "    }\n",
              "\n",
              "    [theme=dark] .colab-df-convert:hover {\n",
              "      background-color: #434B5C;\n",
              "      box-shadow: 0px 1px 3px 1px rgba(0, 0, 0, 0.15);\n",
              "      filter: drop-shadow(0px 1px 2px rgba(0, 0, 0, 0.3));\n",
              "      fill: #FFFFFF;\n",
              "    }\n",
              "  </style>\n",
              "\n",
              "    <script>\n",
              "      const buttonEl =\n",
              "        document.querySelector('#df-ca1b52ad-a914-4f65-8e38-716f800e2893 button.colab-df-convert');\n",
              "      buttonEl.style.display =\n",
              "        google.colab.kernel.accessAllowed ? 'block' : 'none';\n",
              "\n",
              "      async function convertToInteractive(key) {\n",
              "        const element = document.querySelector('#df-ca1b52ad-a914-4f65-8e38-716f800e2893');\n",
              "        const dataTable =\n",
              "          await google.colab.kernel.invokeFunction('convertToInteractive',\n",
              "                                                    [key], {});\n",
              "        if (!dataTable) return;\n",
              "\n",
              "        const docLinkHtml = 'Like what you see? Visit the ' +\n",
              "          '<a target=\"_blank\" href=https://colab.research.google.com/notebooks/data_table.ipynb>data table notebook</a>'\n",
              "          + ' to learn more about interactive tables.';\n",
              "        element.innerHTML = '';\n",
              "        dataTable['output_type'] = 'display_data';\n",
              "        await google.colab.output.renderOutput(dataTable, element);\n",
              "        const docLink = document.createElement('div');\n",
              "        docLink.innerHTML = docLinkHtml;\n",
              "        element.appendChild(docLink);\n",
              "      }\n",
              "    </script>\n",
              "  </div>\n",
              "\n",
              "\n",
              "<div id=\"df-92e5749a-040e-4298-b1a0-f6638185bee9\">\n",
              "  <button class=\"colab-df-quickchart\" onclick=\"quickchart('df-92e5749a-040e-4298-b1a0-f6638185bee9')\"\n",
              "            title=\"Suggest charts.\"\n",
              "            style=\"display:none;\">\n",
              "\n",
              "<svg xmlns=\"http://www.w3.org/2000/svg\" height=\"24px\"viewBox=\"0 0 24 24\"\n",
              "     width=\"24px\">\n",
              "    <g>\n",
              "        <path d=\"M19 3H5c-1.1 0-2 .9-2 2v14c0 1.1.9 2 2 2h14c1.1 0 2-.9 2-2V5c0-1.1-.9-2-2-2zM9 17H7v-7h2v7zm4 0h-2V7h2v10zm4 0h-2v-4h2v4z\"/>\n",
              "    </g>\n",
              "</svg>\n",
              "  </button>\n",
              "\n",
              "<style>\n",
              "  .colab-df-quickchart {\n",
              "      --bg-color: #E8F0FE;\n",
              "      --fill-color: #1967D2;\n",
              "      --hover-bg-color: #E2EBFA;\n",
              "      --hover-fill-color: #174EA6;\n",
              "      --disabled-fill-color: #AAA;\n",
              "      --disabled-bg-color: #DDD;\n",
              "  }\n",
              "\n",
              "  [theme=dark] .colab-df-quickchart {\n",
              "      --bg-color: #3B4455;\n",
              "      --fill-color: #D2E3FC;\n",
              "      --hover-bg-color: #434B5C;\n",
              "      --hover-fill-color: #FFFFFF;\n",
              "      --disabled-bg-color: #3B4455;\n",
              "      --disabled-fill-color: #666;\n",
              "  }\n",
              "\n",
              "  .colab-df-quickchart {\n",
              "    background-color: var(--bg-color);\n",
              "    border: none;\n",
              "    border-radius: 50%;\n",
              "    cursor: pointer;\n",
              "    display: none;\n",
              "    fill: var(--fill-color);\n",
              "    height: 32px;\n",
              "    padding: 0;\n",
              "    width: 32px;\n",
              "  }\n",
              "\n",
              "  .colab-df-quickchart:hover {\n",
              "    background-color: var(--hover-bg-color);\n",
              "    box-shadow: 0 1px 2px rgba(60, 64, 67, 0.3), 0 1px 3px 1px rgba(60, 64, 67, 0.15);\n",
              "    fill: var(--button-hover-fill-color);\n",
              "  }\n",
              "\n",
              "  .colab-df-quickchart-complete:disabled,\n",
              "  .colab-df-quickchart-complete:disabled:hover {\n",
              "    background-color: var(--disabled-bg-color);\n",
              "    fill: var(--disabled-fill-color);\n",
              "    box-shadow: none;\n",
              "  }\n",
              "\n",
              "  .colab-df-spinner {\n",
              "    border: 2px solid var(--fill-color);\n",
              "    border-color: transparent;\n",
              "    border-bottom-color: var(--fill-color);\n",
              "    animation:\n",
              "      spin 1s steps(1) infinite;\n",
              "  }\n",
              "\n",
              "  @keyframes spin {\n",
              "    0% {\n",
              "      border-color: transparent;\n",
              "      border-bottom-color: var(--fill-color);\n",
              "      border-left-color: var(--fill-color);\n",
              "    }\n",
              "    20% {\n",
              "      border-color: transparent;\n",
              "      border-left-color: var(--fill-color);\n",
              "      border-top-color: var(--fill-color);\n",
              "    }\n",
              "    30% {\n",
              "      border-color: transparent;\n",
              "      border-left-color: var(--fill-color);\n",
              "      border-top-color: var(--fill-color);\n",
              "      border-right-color: var(--fill-color);\n",
              "    }\n",
              "    40% {\n",
              "      border-color: transparent;\n",
              "      border-right-color: var(--fill-color);\n",
              "      border-top-color: var(--fill-color);\n",
              "    }\n",
              "    60% {\n",
              "      border-color: transparent;\n",
              "      border-right-color: var(--fill-color);\n",
              "    }\n",
              "    80% {\n",
              "      border-color: transparent;\n",
              "      border-right-color: var(--fill-color);\n",
              "      border-bottom-color: var(--fill-color);\n",
              "    }\n",
              "    90% {\n",
              "      border-color: transparent;\n",
              "      border-bottom-color: var(--fill-color);\n",
              "    }\n",
              "  }\n",
              "</style>\n",
              "\n",
              "  <script>\n",
              "    async function quickchart(key) {\n",
              "      const quickchartButtonEl =\n",
              "        document.querySelector('#' + key + ' button');\n",
              "      quickchartButtonEl.disabled = true;  // To prevent multiple clicks.\n",
              "      quickchartButtonEl.classList.add('colab-df-spinner');\n",
              "      try {\n",
              "        const charts = await google.colab.kernel.invokeFunction(\n",
              "            'suggestCharts', [key], {});\n",
              "      } catch (error) {\n",
              "        console.error('Error during call to suggestCharts:', error);\n",
              "      }\n",
              "      quickchartButtonEl.classList.remove('colab-df-spinner');\n",
              "      quickchartButtonEl.classList.add('colab-df-quickchart-complete');\n",
              "    }\n",
              "    (() => {\n",
              "      let quickchartButtonEl =\n",
              "        document.querySelector('#df-92e5749a-040e-4298-b1a0-f6638185bee9 button');\n",
              "      quickchartButtonEl.style.display =\n",
              "        google.colab.kernel.accessAllowed ? 'block' : 'none';\n",
              "    })();\n",
              "  </script>\n",
              "</div>\n",
              "    </div>\n",
              "  </div>\n"
            ]
          },
          "metadata": {},
          "execution_count": 10
        }
      ]
    },
    {
      "cell_type": "markdown",
      "source": [
        "<p align=\"justify\">\n",
        "Também devemos mudar os atributos de classe nominais \"Normal\" e \"Abnormal\" para 0 e 1, respectivamente, para que o modelo possa prever uma das duas classes."
      ],
      "metadata": {
        "id": "xFYc39yMFlPX"
      }
    },
    {
      "cell_type": "code",
      "source": [
        "dataset['Class_att'] = dataset['Class_att'].replace({'Abnormal': 1, 'Normal': 0})  # Redefinindo classes para 0 (normal) or 1 (abnormal)\n",
        "\n",
        "dataset.sample(5)  # Cinco amostas aleatórias"
      ],
      "metadata": {
        "colab": {
          "base_uri": "https://localhost:8080/",
          "height": 206
        },
        "id": "Wgd38zndyh0w",
        "outputId": "01745ad2-f006-4e4b-9c89-0d7ac068e8fa"
      },
      "execution_count": 11,
      "outputs": [
        {
          "output_type": "execute_result",
          "data": {
            "text/plain": [
              "          Col1       Col2       Col3       Col4        Col5       Col6  \\\n",
              "216  50.913101   6.677000  30.896522  44.236102  118.151531  -1.057986   \n",
              "35   31.484218   7.826221  24.284818  23.657997  113.833145   4.393080   \n",
              "127  80.433428  16.998479  66.536018  63.434949  116.438981  57.781250   \n",
              "55   47.657730  13.277385  36.679985  34.380345   98.249781   6.273012   \n",
              "236  61.821627  13.597105  64.000000  48.224523  121.779803   1.296191   \n",
              "\n",
              "         Col7     Col8     Col9     Col10      Col11    Col12  Class_att  \n",
              "216  0.038359  35.6096  13.0974  12.04558  -9.237245  31.7220          0  \n",
              "35   0.713153   9.7107   8.1003  11.85555 -26.650369  12.6599          1  \n",
              "127  0.095806  26.7780  18.2886  11.96597 -25.207568  21.5450          1  \n",
              "55   0.972556  18.2046  16.9817  12.32724 -26.375211  14.1334          1  \n",
              "236  0.629661  17.9906  13.6082   8.34518 -10.939434  20.7594          0  "
            ],
            "text/html": [
              "\n",
              "  <div id=\"df-28e37b05-4d5e-4da9-be9e-17589d89c7f7\" class=\"colab-df-container\">\n",
              "    <div>\n",
              "<style scoped>\n",
              "    .dataframe tbody tr th:only-of-type {\n",
              "        vertical-align: middle;\n",
              "    }\n",
              "\n",
              "    .dataframe tbody tr th {\n",
              "        vertical-align: top;\n",
              "    }\n",
              "\n",
              "    .dataframe thead th {\n",
              "        text-align: right;\n",
              "    }\n",
              "</style>\n",
              "<table border=\"1\" class=\"dataframe\">\n",
              "  <thead>\n",
              "    <tr style=\"text-align: right;\">\n",
              "      <th></th>\n",
              "      <th>Col1</th>\n",
              "      <th>Col2</th>\n",
              "      <th>Col3</th>\n",
              "      <th>Col4</th>\n",
              "      <th>Col5</th>\n",
              "      <th>Col6</th>\n",
              "      <th>Col7</th>\n",
              "      <th>Col8</th>\n",
              "      <th>Col9</th>\n",
              "      <th>Col10</th>\n",
              "      <th>Col11</th>\n",
              "      <th>Col12</th>\n",
              "      <th>Class_att</th>\n",
              "    </tr>\n",
              "  </thead>\n",
              "  <tbody>\n",
              "    <tr>\n",
              "      <th>216</th>\n",
              "      <td>50.913101</td>\n",
              "      <td>6.677000</td>\n",
              "      <td>30.896522</td>\n",
              "      <td>44.236102</td>\n",
              "      <td>118.151531</td>\n",
              "      <td>-1.057986</td>\n",
              "      <td>0.038359</td>\n",
              "      <td>35.6096</td>\n",
              "      <td>13.0974</td>\n",
              "      <td>12.04558</td>\n",
              "      <td>-9.237245</td>\n",
              "      <td>31.7220</td>\n",
              "      <td>0</td>\n",
              "    </tr>\n",
              "    <tr>\n",
              "      <th>35</th>\n",
              "      <td>31.484218</td>\n",
              "      <td>7.826221</td>\n",
              "      <td>24.284818</td>\n",
              "      <td>23.657997</td>\n",
              "      <td>113.833145</td>\n",
              "      <td>4.393080</td>\n",
              "      <td>0.713153</td>\n",
              "      <td>9.7107</td>\n",
              "      <td>8.1003</td>\n",
              "      <td>11.85555</td>\n",
              "      <td>-26.650369</td>\n",
              "      <td>12.6599</td>\n",
              "      <td>1</td>\n",
              "    </tr>\n",
              "    <tr>\n",
              "      <th>127</th>\n",
              "      <td>80.433428</td>\n",
              "      <td>16.998479</td>\n",
              "      <td>66.536018</td>\n",
              "      <td>63.434949</td>\n",
              "      <td>116.438981</td>\n",
              "      <td>57.781250</td>\n",
              "      <td>0.095806</td>\n",
              "      <td>26.7780</td>\n",
              "      <td>18.2886</td>\n",
              "      <td>11.96597</td>\n",
              "      <td>-25.207568</td>\n",
              "      <td>21.5450</td>\n",
              "      <td>1</td>\n",
              "    </tr>\n",
              "    <tr>\n",
              "      <th>55</th>\n",
              "      <td>47.657730</td>\n",
              "      <td>13.277385</td>\n",
              "      <td>36.679985</td>\n",
              "      <td>34.380345</td>\n",
              "      <td>98.249781</td>\n",
              "      <td>6.273012</td>\n",
              "      <td>0.972556</td>\n",
              "      <td>18.2046</td>\n",
              "      <td>16.9817</td>\n",
              "      <td>12.32724</td>\n",
              "      <td>-26.375211</td>\n",
              "      <td>14.1334</td>\n",
              "      <td>1</td>\n",
              "    </tr>\n",
              "    <tr>\n",
              "      <th>236</th>\n",
              "      <td>61.821627</td>\n",
              "      <td>13.597105</td>\n",
              "      <td>64.000000</td>\n",
              "      <td>48.224523</td>\n",
              "      <td>121.779803</td>\n",
              "      <td>1.296191</td>\n",
              "      <td>0.629661</td>\n",
              "      <td>17.9906</td>\n",
              "      <td>13.6082</td>\n",
              "      <td>8.34518</td>\n",
              "      <td>-10.939434</td>\n",
              "      <td>20.7594</td>\n",
              "      <td>0</td>\n",
              "    </tr>\n",
              "  </tbody>\n",
              "</table>\n",
              "</div>\n",
              "    <div class=\"colab-df-buttons\">\n",
              "\n",
              "  <div class=\"colab-df-container\">\n",
              "    <button class=\"colab-df-convert\" onclick=\"convertToInteractive('df-28e37b05-4d5e-4da9-be9e-17589d89c7f7')\"\n",
              "            title=\"Convert this dataframe to an interactive table.\"\n",
              "            style=\"display:none;\">\n",
              "\n",
              "  <svg xmlns=\"http://www.w3.org/2000/svg\" height=\"24px\" viewBox=\"0 -960 960 960\">\n",
              "    <path d=\"M120-120v-720h720v720H120Zm60-500h600v-160H180v160Zm220 220h160v-160H400v160Zm0 220h160v-160H400v160ZM180-400h160v-160H180v160Zm440 0h160v-160H620v160ZM180-180h160v-160H180v160Zm440 0h160v-160H620v160Z\"/>\n",
              "  </svg>\n",
              "    </button>\n",
              "\n",
              "  <style>\n",
              "    .colab-df-container {\n",
              "      display:flex;\n",
              "      gap: 12px;\n",
              "    }\n",
              "\n",
              "    .colab-df-convert {\n",
              "      background-color: #E8F0FE;\n",
              "      border: none;\n",
              "      border-radius: 50%;\n",
              "      cursor: pointer;\n",
              "      display: none;\n",
              "      fill: #1967D2;\n",
              "      height: 32px;\n",
              "      padding: 0 0 0 0;\n",
              "      width: 32px;\n",
              "    }\n",
              "\n",
              "    .colab-df-convert:hover {\n",
              "      background-color: #E2EBFA;\n",
              "      box-shadow: 0px 1px 2px rgba(60, 64, 67, 0.3), 0px 1px 3px 1px rgba(60, 64, 67, 0.15);\n",
              "      fill: #174EA6;\n",
              "    }\n",
              "\n",
              "    .colab-df-buttons div {\n",
              "      margin-bottom: 4px;\n",
              "    }\n",
              "\n",
              "    [theme=dark] .colab-df-convert {\n",
              "      background-color: #3B4455;\n",
              "      fill: #D2E3FC;\n",
              "    }\n",
              "\n",
              "    [theme=dark] .colab-df-convert:hover {\n",
              "      background-color: #434B5C;\n",
              "      box-shadow: 0px 1px 3px 1px rgba(0, 0, 0, 0.15);\n",
              "      filter: drop-shadow(0px 1px 2px rgba(0, 0, 0, 0.3));\n",
              "      fill: #FFFFFF;\n",
              "    }\n",
              "  </style>\n",
              "\n",
              "    <script>\n",
              "      const buttonEl =\n",
              "        document.querySelector('#df-28e37b05-4d5e-4da9-be9e-17589d89c7f7 button.colab-df-convert');\n",
              "      buttonEl.style.display =\n",
              "        google.colab.kernel.accessAllowed ? 'block' : 'none';\n",
              "\n",
              "      async function convertToInteractive(key) {\n",
              "        const element = document.querySelector('#df-28e37b05-4d5e-4da9-be9e-17589d89c7f7');\n",
              "        const dataTable =\n",
              "          await google.colab.kernel.invokeFunction('convertToInteractive',\n",
              "                                                    [key], {});\n",
              "        if (!dataTable) return;\n",
              "\n",
              "        const docLinkHtml = 'Like what you see? Visit the ' +\n",
              "          '<a target=\"_blank\" href=https://colab.research.google.com/notebooks/data_table.ipynb>data table notebook</a>'\n",
              "          + ' to learn more about interactive tables.';\n",
              "        element.innerHTML = '';\n",
              "        dataTable['output_type'] = 'display_data';\n",
              "        await google.colab.output.renderOutput(dataTable, element);\n",
              "        const docLink = document.createElement('div');\n",
              "        docLink.innerHTML = docLinkHtml;\n",
              "        element.appendChild(docLink);\n",
              "      }\n",
              "    </script>\n",
              "  </div>\n",
              "\n",
              "\n",
              "<div id=\"df-506ed902-48d0-4bd8-ae87-1521b9b5029e\">\n",
              "  <button class=\"colab-df-quickchart\" onclick=\"quickchart('df-506ed902-48d0-4bd8-ae87-1521b9b5029e')\"\n",
              "            title=\"Suggest charts.\"\n",
              "            style=\"display:none;\">\n",
              "\n",
              "<svg xmlns=\"http://www.w3.org/2000/svg\" height=\"24px\"viewBox=\"0 0 24 24\"\n",
              "     width=\"24px\">\n",
              "    <g>\n",
              "        <path d=\"M19 3H5c-1.1 0-2 .9-2 2v14c0 1.1.9 2 2 2h14c1.1 0 2-.9 2-2V5c0-1.1-.9-2-2-2zM9 17H7v-7h2v7zm4 0h-2V7h2v10zm4 0h-2v-4h2v4z\"/>\n",
              "    </g>\n",
              "</svg>\n",
              "  </button>\n",
              "\n",
              "<style>\n",
              "  .colab-df-quickchart {\n",
              "      --bg-color: #E8F0FE;\n",
              "      --fill-color: #1967D2;\n",
              "      --hover-bg-color: #E2EBFA;\n",
              "      --hover-fill-color: #174EA6;\n",
              "      --disabled-fill-color: #AAA;\n",
              "      --disabled-bg-color: #DDD;\n",
              "  }\n",
              "\n",
              "  [theme=dark] .colab-df-quickchart {\n",
              "      --bg-color: #3B4455;\n",
              "      --fill-color: #D2E3FC;\n",
              "      --hover-bg-color: #434B5C;\n",
              "      --hover-fill-color: #FFFFFF;\n",
              "      --disabled-bg-color: #3B4455;\n",
              "      --disabled-fill-color: #666;\n",
              "  }\n",
              "\n",
              "  .colab-df-quickchart {\n",
              "    background-color: var(--bg-color);\n",
              "    border: none;\n",
              "    border-radius: 50%;\n",
              "    cursor: pointer;\n",
              "    display: none;\n",
              "    fill: var(--fill-color);\n",
              "    height: 32px;\n",
              "    padding: 0;\n",
              "    width: 32px;\n",
              "  }\n",
              "\n",
              "  .colab-df-quickchart:hover {\n",
              "    background-color: var(--hover-bg-color);\n",
              "    box-shadow: 0 1px 2px rgba(60, 64, 67, 0.3), 0 1px 3px 1px rgba(60, 64, 67, 0.15);\n",
              "    fill: var(--button-hover-fill-color);\n",
              "  }\n",
              "\n",
              "  .colab-df-quickchart-complete:disabled,\n",
              "  .colab-df-quickchart-complete:disabled:hover {\n",
              "    background-color: var(--disabled-bg-color);\n",
              "    fill: var(--disabled-fill-color);\n",
              "    box-shadow: none;\n",
              "  }\n",
              "\n",
              "  .colab-df-spinner {\n",
              "    border: 2px solid var(--fill-color);\n",
              "    border-color: transparent;\n",
              "    border-bottom-color: var(--fill-color);\n",
              "    animation:\n",
              "      spin 1s steps(1) infinite;\n",
              "  }\n",
              "\n",
              "  @keyframes spin {\n",
              "    0% {\n",
              "      border-color: transparent;\n",
              "      border-bottom-color: var(--fill-color);\n",
              "      border-left-color: var(--fill-color);\n",
              "    }\n",
              "    20% {\n",
              "      border-color: transparent;\n",
              "      border-left-color: var(--fill-color);\n",
              "      border-top-color: var(--fill-color);\n",
              "    }\n",
              "    30% {\n",
              "      border-color: transparent;\n",
              "      border-left-color: var(--fill-color);\n",
              "      border-top-color: var(--fill-color);\n",
              "      border-right-color: var(--fill-color);\n",
              "    }\n",
              "    40% {\n",
              "      border-color: transparent;\n",
              "      border-right-color: var(--fill-color);\n",
              "      border-top-color: var(--fill-color);\n",
              "    }\n",
              "    60% {\n",
              "      border-color: transparent;\n",
              "      border-right-color: var(--fill-color);\n",
              "    }\n",
              "    80% {\n",
              "      border-color: transparent;\n",
              "      border-right-color: var(--fill-color);\n",
              "      border-bottom-color: var(--fill-color);\n",
              "    }\n",
              "    90% {\n",
              "      border-color: transparent;\n",
              "      border-bottom-color: var(--fill-color);\n",
              "    }\n",
              "  }\n",
              "</style>\n",
              "\n",
              "  <script>\n",
              "    async function quickchart(key) {\n",
              "      const quickchartButtonEl =\n",
              "        document.querySelector('#' + key + ' button');\n",
              "      quickchartButtonEl.disabled = true;  // To prevent multiple clicks.\n",
              "      quickchartButtonEl.classList.add('colab-df-spinner');\n",
              "      try {\n",
              "        const charts = await google.colab.kernel.invokeFunction(\n",
              "            'suggestCharts', [key], {});\n",
              "      } catch (error) {\n",
              "        console.error('Error during call to suggestCharts:', error);\n",
              "      }\n",
              "      quickchartButtonEl.classList.remove('colab-df-spinner');\n",
              "      quickchartButtonEl.classList.add('colab-df-quickchart-complete');\n",
              "    }\n",
              "    (() => {\n",
              "      let quickchartButtonEl =\n",
              "        document.querySelector('#df-506ed902-48d0-4bd8-ae87-1521b9b5029e button');\n",
              "      quickchartButtonEl.style.display =\n",
              "        google.colab.kernel.accessAllowed ? 'block' : 'none';\n",
              "    })();\n",
              "  </script>\n",
              "</div>\n",
              "    </div>\n",
              "  </div>\n"
            ]
          },
          "metadata": {},
          "execution_count": 11
        }
      ]
    },
    {
      "cell_type": "markdown",
      "source": [
        "Eliminando registros sem valores (não ocorre nesse dataset)"
      ],
      "metadata": {
        "id": "kZkETEdfF0AJ"
      }
    },
    {
      "cell_type": "code",
      "source": [
        "dataset.shape"
      ],
      "metadata": {
        "colab": {
          "base_uri": "https://localhost:8080/"
        },
        "id": "A1O6RHBxFac6",
        "outputId": "296495ae-76d4-4947-9053-170e5aff508a"
      },
      "execution_count": 12,
      "outputs": [
        {
          "output_type": "execute_result",
          "data": {
            "text/plain": [
              "(310, 13)"
            ]
          },
          "metadata": {},
          "execution_count": 12
        }
      ]
    },
    {
      "cell_type": "code",
      "source": [
        "dataset.dropna()\n",
        "dataset.shape"
      ],
      "metadata": {
        "colab": {
          "base_uri": "https://localhost:8080/"
        },
        "id": "CuCc4C98FiCr",
        "outputId": "e7a3be14-9b0d-4fde-b3ff-d890a73e5a2d"
      },
      "execution_count": 13,
      "outputs": [
        {
          "output_type": "execute_result",
          "data": {
            "text/plain": [
              "(310, 13)"
            ]
          },
          "metadata": {},
          "execution_count": 13
        }
      ]
    },
    {
      "cell_type": "markdown",
      "source": [
        "Iremos agora eliminar os outliers identificados na fase de exploração de dados."
      ],
      "metadata": {
        "id": "gXFO50dKYrFB"
      }
    },
    {
      "cell_type": "code",
      "source": [
        "for col in dataset.columns:\n",
        "        Q1 = dataset[col].quantile(0.25)\n",
        "        Q3 = dataset[col].quantile(0.75)\n",
        "        IQR = Q3 - Q1\n",
        "        lower_bound = Q1 - 1.5 * IQR\n",
        "        upper_bound = Q3 + 1.5 * IQR\n",
        "        dataset = dataset[(dataset[col] >= lower_bound) & (dataset[col] <= upper_bound)]\n",
        "\n",
        "numerical_attributes = dataset.drop(columns=['Class_att'])\n",
        "\n",
        "# Create a boxplot for the numerical attributes\n",
        "plt.figure(figsize=(10, 6))\n",
        "numerical_attributes.boxplot()\n",
        "plt.title('Boxplot dos Atributos')\n",
        "plt.xlabel('Atributo')\n",
        "plt.ylabel('Valor')\n",
        "plt.xticks(rotation=45)\n",
        "plt.show()"
      ],
      "metadata": {
        "colab": {
          "base_uri": "https://localhost:8080/",
          "height": 588
        },
        "id": "Xm9k_JX-rH-Z",
        "outputId": "3402c27d-c431-4722-e87e-143863f7b6f3"
      },
      "execution_count": 14,
      "outputs": [
        {
          "output_type": "display_data",
          "data": {
            "text/plain": [
              "<Figure size 1000x600 with 1 Axes>"
            ],
            "image/png": "[encoded data removed]"
          },
          "metadata": {}
        }
      ]
    },
    {
      "cell_type": "markdown",
      "source": [
        "<p align=\"justify\">\n",
        "Agora, vamos dividir o dataset entre as colunas de entrada e a coluna de saída (classes a ser prevista)."
      ],
      "metadata": {
        "id": "51Ozc3wiGgwK"
      }
    },
    {
      "cell_type": "code",
      "source": [
        "dataset_X = dataset.drop('Class_att', axis=1)  # Dividindo dataset em entradas e saídas (X e y)\n",
        "dataset_y = dataset['Class_att']\n",
        "\n",
        "dataset_y.sample(5)  # Cinco amostas aleatórias"
      ],
      "metadata": {
        "colab": {
          "base_uri": "https://localhost:8080/"
        },
        "id": "8zU7Nk6Y3dLr",
        "outputId": "f3bdfab9-65b6-428b-c9c3-8413e672e112"
      },
      "execution_count": 15,
      "outputs": [
        {
          "output_type": "execute_result",
          "data": {
            "text/plain": [
              "251    0\n",
              "306    0\n",
              "257    0\n",
              "256    0\n",
              "301    0\n",
              "Name: Class_att, dtype: int64"
            ]
          },
          "metadata": {},
          "execution_count": 15
        }
      ]
    },
    {
      "cell_type": "markdown",
      "source": [
        "---"
      ],
      "metadata": {
        "id": "1nHe_PaOs0F_"
      }
    },
    {
      "cell_type": "markdown",
      "source": [
        "### Data Balancing\n",
        "<p align=\"justify\">\n",
        "Deixaremos o dataset mais balanceado gerando amostras sintéticas até as duas classes terem número igual amostras. O SMOTE usa o algorítmo dos \"K vizinhos mais próximos\" para gerar novas amostras."
      ],
      "metadata": {
        "id": "Ccs7GIREGpIf"
      }
    },
    {
      "cell_type": "code",
      "source": [
        "smote = SMOTE(sampling_strategy='minority', random_state=9)\n",
        "dataset_X, dataset_y = smote.fit_resample(dataset_X, dataset_y)\n",
        "\n",
        "dataset_X.shape, dataset_y.shape"
      ],
      "metadata": {
        "id": "ZAX7ptZE7CtB",
        "colab": {
          "base_uri": "https://localhost:8080/"
        },
        "outputId": "26ad56a6-83c1-4c4b-dfcc-a2ea4f57da76"
      },
      "execution_count": 16,
      "outputs": [
        {
          "output_type": "execute_result",
          "data": {
            "text/plain": [
              "((354, 12), (354,))"
            ]
          },
          "metadata": {},
          "execution_count": 16
        }
      ]
    },
    {
      "cell_type": "markdown",
      "source": [
        "---"
      ],
      "metadata": {
        "id": "_-6G_qwHs05U"
      }
    },
    {
      "cell_type": "markdown",
      "source": [
        "### Data Scaling\n",
        "<p align=\"justify\">\n",
        "Escalonar os valores do dataset para um intervalo entre 0 e 1 melhora a perfórmace e constância do modelo."
      ],
      "metadata": {
        "id": "34IvZPiCHJDr"
      }
    },
    {
      "cell_type": "code",
      "source": [
        "scaler = MinMaxScaler()  # Scalling data (ente 0 e 1)\n",
        "dataset_X[dataset_X.columns] = scaler.fit_transform(dataset_X[dataset_X.columns])\n",
        "\n",
        "dataset_X.sample(5)  # Cinco amostas aleatórias"
      ],
      "metadata": {
        "colab": {
          "base_uri": "https://localhost:8080/",
          "height": 206
        },
        "id": "x1ma6wGGzR1z",
        "outputId": "bf48d2fa-6ef3-4210-ff7e-31c9623df521"
      },
      "execution_count": 17,
      "outputs": [
        {
          "output_type": "execute_result",
          "data": {
            "text/plain": [
              "         Col1      Col2      Col3      Col4      Col5      Col6      Col7  \\\n",
              "99   0.535428  0.438423  0.554784  0.562878  0.439297  0.509102  0.715704   \n",
              "176  0.313604  0.499218  0.257414  0.282383  0.096394  0.382226  0.386924   \n",
              "14   0.257710  0.412228  0.254758  0.281443  0.617219  0.159809  0.663737   \n",
              "96   0.741434  0.880603  0.717943  0.483486  0.874452  0.855730  0.579932   \n",
              "31   0.266472  0.522233  0.158864  0.215903  0.507908  0.161301  0.817118   \n",
              "\n",
              "         Col8      Col9     Col10     Col11     Col12  \n",
              "99   0.600480  0.781950  0.966884  0.795202  0.183508  \n",
              "176  0.307922  0.653237  0.693455  0.644654  0.390211  \n",
              "14   0.083289  0.987921  0.023218  0.056637  0.335370  \n",
              "96   0.996117  0.780437  0.095819  0.382501  0.243439  \n",
              "31   0.689668  0.553296  0.668078  0.765788  0.777416  "
            ],
            "text/html": [
              "\n",
              "  <div id=\"df-5ec58a11-e83e-4b04-937a-533ef74d2a0e\" class=\"colab-df-container\">\n",
              "    <div>\n",
              "<style scoped>\n",
              "    .dataframe tbody tr th:only-of-type {\n",
              "        vertical-align: middle;\n",
              "    }\n",
              "\n",
              "    .dataframe tbody tr th {\n",
              "        vertical-align: top;\n",
              "    }\n",
              "\n",
              "    .dataframe thead th {\n",
              "        text-align: right;\n",
              "    }\n",
              "</style>\n",
              "<table border=\"1\" class=\"dataframe\">\n",
              "  <thead>\n",
              "    <tr style=\"text-align: right;\">\n",
              "      <th></th>\n",
              "      <th>Col1</th>\n",
              "      <th>Col2</th>\n",
              "      <th>Col3</th>\n",
              "      <th>Col4</th>\n",
              "      <th>Col5</th>\n",
              "      <th>Col6</th>\n",
              "      <th>Col7</th>\n",
              "      <th>Col8</th>\n",
              "      <th>Col9</th>\n",
              "      <th>Col10</th>\n",
              "      <th>Col11</th>\n",
              "      <th>Col12</th>\n",
              "    </tr>\n",
              "  </thead>\n",
              "  <tbody>\n",
              "    <tr>\n",
              "      <th>99</th>\n",
              "      <td>0.535428</td>\n",
              "      <td>0.438423</td>\n",
              "      <td>0.554784</td>\n",
              "      <td>0.562878</td>\n",
              "      <td>0.439297</td>\n",
              "      <td>0.509102</td>\n",
              "      <td>0.715704</td>\n",
              "      <td>0.600480</td>\n",
              "      <td>0.781950</td>\n",
              "      <td>0.966884</td>\n",
              "      <td>0.795202</td>\n",
              "      <td>0.183508</td>\n",
              "    </tr>\n",
              "    <tr>\n",
              "      <th>176</th>\n",
              "      <td>0.313604</td>\n",
              "      <td>0.499218</td>\n",
              "      <td>0.257414</td>\n",
              "      <td>0.282383</td>\n",
              "      <td>0.096394</td>\n",
              "      <td>0.382226</td>\n",
              "      <td>0.386924</td>\n",
              "      <td>0.307922</td>\n",
              "      <td>0.653237</td>\n",
              "      <td>0.693455</td>\n",
              "      <td>0.644654</td>\n",
              "      <td>0.390211</td>\n",
              "    </tr>\n",
              "    <tr>\n",
              "      <th>14</th>\n",
              "      <td>0.257710</td>\n",
              "      <td>0.412228</td>\n",
              "      <td>0.254758</td>\n",
              "      <td>0.281443</td>\n",
              "      <td>0.617219</td>\n",
              "      <td>0.159809</td>\n",
              "      <td>0.663737</td>\n",
              "      <td>0.083289</td>\n",
              "      <td>0.987921</td>\n",
              "      <td>0.023218</td>\n",
              "      <td>0.056637</td>\n",
              "      <td>0.335370</td>\n",
              "    </tr>\n",
              "    <tr>\n",
              "      <th>96</th>\n",
              "      <td>0.741434</td>\n",
              "      <td>0.880603</td>\n",
              "      <td>0.717943</td>\n",
              "      <td>0.483486</td>\n",
              "      <td>0.874452</td>\n",
              "      <td>0.855730</td>\n",
              "      <td>0.579932</td>\n",
              "      <td>0.996117</td>\n",
              "      <td>0.780437</td>\n",
              "      <td>0.095819</td>\n",
              "      <td>0.382501</td>\n",
              "      <td>0.243439</td>\n",
              "    </tr>\n",
              "    <tr>\n",
              "      <th>31</th>\n",
              "      <td>0.266472</td>\n",
              "      <td>0.522233</td>\n",
              "      <td>0.158864</td>\n",
              "      <td>0.215903</td>\n",
              "      <td>0.507908</td>\n",
              "      <td>0.161301</td>\n",
              "      <td>0.817118</td>\n",
              "      <td>0.689668</td>\n",
              "      <td>0.553296</td>\n",
              "      <td>0.668078</td>\n",
              "      <td>0.765788</td>\n",
              "      <td>0.777416</td>\n",
              "    </tr>\n",
              "  </tbody>\n",
              "</table>\n",
              "</div>\n",
              "    <div class=\"colab-df-buttons\">\n",
              "\n",
              "  <div class=\"colab-df-container\">\n",
              "    <button class=\"colab-df-convert\" onclick=\"convertToInteractive('df-5ec58a11-e83e-4b04-937a-533ef74d2a0e')\"\n",
              "            title=\"Convert this dataframe to an interactive table.\"\n",
              "            style=\"display:none;\">\n",
              "\n",
              "  <svg xmlns=\"http://www.w3.org/2000/svg\" height=\"24px\" viewBox=\"0 -960 960 960\">\n",
              "    <path d=\"M120-120v-720h720v720H120Zm60-500h600v-160H180v160Zm220 220h160v-160H400v160Zm0 220h160v-160H400v160ZM180-400h160v-160H180v160Zm440 0h160v-160H620v160ZM180-180h160v-160H180v160Zm440 0h160v-160H620v160Z\"/>\n",
              "  </svg>\n",
              "    </button>\n",
              "\n",
              "  <style>\n",
              "    .colab-df-container {\n",
              "      display:flex;\n",
              "      gap: 12px;\n",
              "    }\n",
              "\n",
              "    .colab-df-convert {\n",
              "      background-color: #E8F0FE;\n",
              "      border: none;\n",
              "      border-radius: 50%;\n",
              "      cursor: pointer;\n",
              "      display: none;\n",
              "      fill: #1967D2;\n",
              "      height: 32px;\n",
              "      padding: 0 0 0 0;\n",
              "      width: 32px;\n",
              "    }\n",
              "\n",
              "    .colab-df-convert:hover {\n",
              "      background-color: #E2EBFA;\n",
              "      box-shadow: 0px 1px 2px rgba(60, 64, 67, 0.3), 0px 1px 3px 1px rgba(60, 64, 67, 0.15);\n",
              "      fill: #174EA6;\n",
              "    }\n",
              "\n",
              "    .colab-df-buttons div {\n",
              "      margin-bottom: 4px;\n",
              "    }\n",
              "\n",
              "    [theme=dark] .colab-df-convert {\n",
              "      background-color: #3B4455;\n",
              "      fill: #D2E3FC;\n",
              "    }\n",
              "\n",
              "    [theme=dark] .colab-df-convert:hover {\n",
              "      background-color: #434B5C;\n",
              "      box-shadow: 0px 1px 3px 1px rgba(0, 0, 0, 0.15);\n",
              "      filter: drop-shadow(0px 1px 2px rgba(0, 0, 0, 0.3));\n",
              "      fill: #FFFFFF;\n",
              "    }\n",
              "  </style>\n",
              "\n",
              "    <script>\n",
              "      const buttonEl =\n",
              "        document.querySelector('#df-5ec58a11-e83e-4b04-937a-533ef74d2a0e button.colab-df-convert');\n",
              "      buttonEl.style.display =\n",
              "        google.colab.kernel.accessAllowed ? 'block' : 'none';\n",
              "\n",
              "      async function convertToInteractive(key) {\n",
              "        const element = document.querySelector('#df-5ec58a11-e83e-4b04-937a-533ef74d2a0e');\n",
              "        const dataTable =\n",
              "          await google.colab.kernel.invokeFunction('convertToInteractive',\n",
              "                                                    [key], {});\n",
              "        if (!dataTable) return;\n",
              "\n",
              "        const docLinkHtml = 'Like what you see? Visit the ' +\n",
              "          '<a target=\"_blank\" href=https://colab.research.google.com/notebooks/data_table.ipynb>data table notebook</a>'\n",
              "          + ' to learn more about interactive tables.';\n",
              "        element.innerHTML = '';\n",
              "        dataTable['output_type'] = 'display_data';\n",
              "        await google.colab.output.renderOutput(dataTable, element);\n",
              "        const docLink = document.createElement('div');\n",
              "        docLink.innerHTML = docLinkHtml;\n",
              "        element.appendChild(docLink);\n",
              "      }\n",
              "    </script>\n",
              "  </div>\n",
              "\n",
              "\n",
              "<div id=\"df-0789bf68-846a-4bad-88da-3d493737c884\">\n",
              "  <button class=\"colab-df-quickchart\" onclick=\"quickchart('df-0789bf68-846a-4bad-88da-3d493737c884')\"\n",
              "            title=\"Suggest charts.\"\n",
              "            style=\"display:none;\">\n",
              "\n",
              "<svg xmlns=\"http://www.w3.org/2000/svg\" height=\"24px\"viewBox=\"0 0 24 24\"\n",
              "     width=\"24px\">\n",
              "    <g>\n",
              "        <path d=\"M19 3H5c-1.1 0-2 .9-2 2v14c0 1.1.9 2 2 2h14c1.1 0 2-.9 2-2V5c0-1.1-.9-2-2-2zM9 17H7v-7h2v7zm4 0h-2V7h2v10zm4 0h-2v-4h2v4z\"/>\n",
              "    </g>\n",
              "</svg>\n",
              "  </button>\n",
              "\n",
              "<style>\n",
              "  .colab-df-quickchart {\n",
              "      --bg-color: #E8F0FE;\n",
              "      --fill-color: #1967D2;\n",
              "      --hover-bg-color: #E2EBFA;\n",
              "      --hover-fill-color: #174EA6;\n",
              "      --disabled-fill-color: #AAA;\n",
              "      --disabled-bg-color: #DDD;\n",
              "  }\n",
              "\n",
              "  [theme=dark] .colab-df-quickchart {\n",
              "      --bg-color: #3B4455;\n",
              "      --fill-color: #D2E3FC;\n",
              "      --hover-bg-color: #434B5C;\n",
              "      --hover-fill-color: #FFFFFF;\n",
              "      --disabled-bg-color: #3B4455;\n",
              "      --disabled-fill-color: #666;\n",
              "  }\n",
              "\n",
              "  .colab-df-quickchart {\n",
              "    background-color: var(--bg-color);\n",
              "    border: none;\n",
              "    border-radius: 50%;\n",
              "    cursor: pointer;\n",
              "    display: none;\n",
              "    fill: var(--fill-color);\n",
              "    height: 32px;\n",
              "    padding: 0;\n",
              "    width: 32px;\n",
              "  }\n",
              "\n",
              "  .colab-df-quickchart:hover {\n",
              "    background-color: var(--hover-bg-color);\n",
              "    box-shadow: 0 1px 2px rgba(60, 64, 67, 0.3), 0 1px 3px 1px rgba(60, 64, 67, 0.15);\n",
              "    fill: var(--button-hover-fill-color);\n",
              "  }\n",
              "\n",
              "  .colab-df-quickchart-complete:disabled,\n",
              "  .colab-df-quickchart-complete:disabled:hover {\n",
              "    background-color: var(--disabled-bg-color);\n",
              "    fill: var(--disabled-fill-color);\n",
              "    box-shadow: none;\n",
              "  }\n",
              "\n",
              "  .colab-df-spinner {\n",
              "    border: 2px solid var(--fill-color);\n",
              "    border-color: transparent;\n",
              "    border-bottom-color: var(--fill-color);\n",
              "    animation:\n",
              "      spin 1s steps(1) infinite;\n",
              "  }\n",
              "\n",
              "  @keyframes spin {\n",
              "    0% {\n",
              "      border-color: transparent;\n",
              "      border-bottom-color: var(--fill-color);\n",
              "      border-left-color: var(--fill-color);\n",
              "    }\n",
              "    20% {\n",
              "      border-color: transparent;\n",
              "      border-left-color: var(--fill-color);\n",
              "      border-top-color: var(--fill-color);\n",
              "    }\n",
              "    30% {\n",
              "      border-color: transparent;\n",
              "      border-left-color: var(--fill-color);\n",
              "      border-top-color: var(--fill-color);\n",
              "      border-right-color: var(--fill-color);\n",
              "    }\n",
              "    40% {\n",
              "      border-color: transparent;\n",
              "      border-right-color: var(--fill-color);\n",
              "      border-top-color: var(--fill-color);\n",
              "    }\n",
              "    60% {\n",
              "      border-color: transparent;\n",
              "      border-right-color: var(--fill-color);\n",
              "    }\n",
              "    80% {\n",
              "      border-color: transparent;\n",
              "      border-right-color: var(--fill-color);\n",
              "      border-bottom-color: var(--fill-color);\n",
              "    }\n",
              "    90% {\n",
              "      border-color: transparent;\n",
              "      border-bottom-color: var(--fill-color);\n",
              "    }\n",
              "  }\n",
              "</style>\n",
              "\n",
              "  <script>\n",
              "    async function quickchart(key) {\n",
              "      const quickchartButtonEl =\n",
              "        document.querySelector('#' + key + ' button');\n",
              "      quickchartButtonEl.disabled = true;  // To prevent multiple clicks.\n",
              "      quickchartButtonEl.classList.add('colab-df-spinner');\n",
              "      try {\n",
              "        const charts = await google.colab.kernel.invokeFunction(\n",
              "            'suggestCharts', [key], {});\n",
              "      } catch (error) {\n",
              "        console.error('Error during call to suggestCharts:', error);\n",
              "      }\n",
              "      quickchartButtonEl.classList.remove('colab-df-spinner');\n",
              "      quickchartButtonEl.classList.add('colab-df-quickchart-complete');\n",
              "    }\n",
              "    (() => {\n",
              "      let quickchartButtonEl =\n",
              "        document.querySelector('#df-0789bf68-846a-4bad-88da-3d493737c884 button');\n",
              "      quickchartButtonEl.style.display =\n",
              "        google.colab.kernel.accessAllowed ? 'block' : 'none';\n",
              "    })();\n",
              "  </script>\n",
              "</div>\n",
              "    </div>\n",
              "  </div>\n"
            ]
          },
          "metadata": {},
          "execution_count": 17
        }
      ]
    },
    {
      "cell_type": "markdown",
      "source": [
        "---"
      ],
      "metadata": {
        "id": "pWjP5Bcrs15w"
      }
    },
    {
      "cell_type": "markdown",
      "source": [
        "### Data Split\n",
        "<p align=\"justify\">\n",
        "Agora é a hora de dividir o dataset entre teste e teinamento. Usaremos a função train_test_split da biblioteca SKLearn para tal. Definimos 80% dos dados para treinameno e 20% para teste.\n",
        "\n",
        "> Definimos um valor arbitrário para o argumento 'random_state'. Ele fará o dataset ser dividido igualmente em todas as execuções, facilitando a comparação entre modelos e a constância dos resultados. Especialmente em um cenário com poucas amostras."
      ],
      "metadata": {
        "id": "XenOSMYlHiQg"
      }
    },
    {
      "cell_type": "code",
      "source": [
        "X_train, X_test, y_train, y_test = train_test_split(dataset_X, dataset_y, test_size=0.2, random_state=9)  # Criando train e test splits\n",
        "\n",
        "X_train.shape, X_test.shape, y_train.shape, y_test.shape"
      ],
      "metadata": {
        "colab": {
          "base_uri": "https://localhost:8080/"
        },
        "id": "cc0-Sjvf4TI7",
        "outputId": "15b02578-8d6d-4971-de89-105ec65f4b1d"
      },
      "execution_count": 18,
      "outputs": [
        {
          "output_type": "execute_result",
          "data": {
            "text/plain": [
              "((283, 12), (71, 12), (283,), (71,))"
            ]
          },
          "metadata": {},
          "execution_count": 18
        }
      ]
    },
    {
      "cell_type": "markdown",
      "source": [
        "---"
      ],
      "metadata": {
        "id": "u734Fm6xs8aj"
      }
    },
    {
      "cell_type": "markdown",
      "source": [
        "### Modelo 1\n",
        "<p align=\"justify\">\n",
        "Usaremos a classe MLPClassifier, novamente do SKLearn, como modelo MLP. Nessa primeira abordagem, manteremos os argumentos padrões da função. Posteriormente, os valores seráo alterados.\n",
        "\n",
        "> Note que também usaremos o 'random_state' nessas implementações."
      ],
      "metadata": {
        "id": "sdTsx5cbH7tS"
      }
    },
    {
      "cell_type": "code",
      "source": [
        "model1 = MLPClassifier(random_state=9).fit(X_train, y_train)"
      ],
      "metadata": {
        "colab": {
          "base_uri": "https://localhost:8080/"
        },
        "id": "N-vu4GNs54Yn",
        "outputId": "08d2a8b5-ce0c-4ebe-8751-16e16503b260"
      },
      "execution_count": 19,
      "outputs": [
        {
          "output_type": "stream",
          "name": "stderr",
          "text": [
            "/usr/local/lib/python3.10/dist-packages/sklearn/neural_network/_multilayer_perceptron.py:686: ConvergenceWarning: Stochastic Optimizer: Maximum iterations (200) reached and the optimization hasn't converged yet.\n",
            "  warnings.warn(\n"
          ]
        }
      ]
    },
    {
      "cell_type": "markdown",
      "source": [
        "A segur, temos o teste do modelo em dados ainda não vistos pelo treinamento."
      ],
      "metadata": {
        "id": "k_XC445UIv5v"
      }
    },
    {
      "cell_type": "code",
      "source": [
        "model1.score(X_test, y_test)"
      ],
      "metadata": {
        "colab": {
          "base_uri": "https://localhost:8080/"
        },
        "id": "K-7AAop-578m",
        "outputId": "57430c7a-bed0-46e7-e003-88f11b457f2f"
      },
      "execution_count": 20,
      "outputs": [
        {
          "output_type": "execute_result",
          "data": {
            "text/plain": [
              "0.8169014084507042"
            ]
          },
          "metadata": {},
          "execution_count": 20
        }
      ]
    },
    {
      "cell_type": "markdown",
      "source": [
        "<p align=\"justify\">\n",
        "Com o auxílio do método classification_report, podemos ter uma visão detalhada das métricas do modelo.\n",
        "\n",
        "> <p align=\"justify\"> Precisão (Precision): A precisão mede a proporção de exemplos positivos previstos corretamente em relação a todos os exemplos previstos como positivos. Em outras palavras, é a capacidade do modelo de evitar falsos positivos.\n",
        "\n",
        "> <p align=\"justify\"> Revocação (Recall): A revocação (também conhecida como taxa de verdadeiros positivos ou sensibilidade) mede a proporção de exemplos positivos previstos corretamente em relação a todos os exemplos que realmente são positivos. Em outras palavras, é a capacidade do modelo de evitar falsos negativos.\n",
        "\n",
        "> <p align=\"justify\"> F1-Score: O F1-Score é uma métrica que combina precisão e revocação em uma única medida. Ele é útil quando você deseja um equilíbrio entre precisão e revocação e não quer se concentrar apenas em uma delas. O F1-Score é a média harmônica entre precisão e revocação.\n",
        "\n",
        "> <p align=\"justify\"> Suporte (Support): O suporte é o número de ocorrências reais de cada classe no conjunto de dados. É o número total de exemplos que pertencem a uma classe específica. O suporte é importante para entender se o modelo está sendo testado em um conjunto de dados balanceado ou desbalanceado.\n",
        "\n",
        "> <p align=\"justify\"> Acurácia (Accuracy): A acurácia é a métrica mais simples e amplamente usada. Ela mede a proporção de exemplos corretamente classificados em relação ao total de exemplos. No entanto, a acurácia pode ser enganosa em conjuntos de dados desbalanceados, onde uma classe é dominante."
      ],
      "metadata": {
        "id": "rmwIS39mI4MR"
      }
    },
    {
      "cell_type": "code",
      "source": [
        "y_pred1 = model1.predict(X_test)\n",
        "\n",
        "print(classification_report(y_test, y_pred1))"
      ],
      "metadata": {
        "colab": {
          "base_uri": "https://localhost:8080/"
        },
        "id": "phbn3R2v6dsH",
        "outputId": "38b7be94-504f-4665-900c-15cea5daf60e"
      },
      "execution_count": 21,
      "outputs": [
        {
          "output_type": "stream",
          "name": "stdout",
          "text": [
            "              precision    recall  f1-score   support\n",
            "\n",
            "           0       0.78      0.85      0.82        34\n",
            "           1       0.85      0.78      0.82        37\n",
            "\n",
            "    accuracy                           0.82        71\n",
            "   macro avg       0.82      0.82      0.82        71\n",
            "weighted avg       0.82      0.82      0.82        71\n",
            "\n"
          ]
        }
      ]
    },
    {
      "cell_type": "code",
      "source": [
        "cm1 = confusion_matrix(y_test, y_pred1, labels=None)\n",
        "\n",
        "disp = ConfusionMatrixDisplay(confusion_matrix=cm1, display_labels=None)\n",
        "disp.plot()"
      ],
      "metadata": {
        "colab": {
          "base_uri": "https://localhost:8080/",
          "height": 467
        },
        "id": "b-q402WQ84Oe",
        "outputId": "5a014634-ac56-4459-b812-0b72cb51f781"
      },
      "execution_count": 22,
      "outputs": [
        {
          "output_type": "execute_result",
          "data": {
            "text/plain": [
              "<sklearn.metrics._plot.confusion_matrix.ConfusionMatrixDisplay at 0x7e3281989a80>"
            ]
          },
          "metadata": {},
          "execution_count": 22
        },
        {
          "output_type": "display_data",
          "data": {
            "text/plain": [
              "<Figure size 640x480 with 2 Axes>"
            ],
            "image/png": "[encoded data removed]"
          },
          "metadata": {}
        }
      ]
    },
    {
      "cell_type": "markdown",
      "source": [
        "###Modelo 2\n",
        "Aumentaremos o número de iterações (épocas)"
      ],
      "metadata": {
        "id": "pxyoiboGKSth"
      }
    },
    {
      "cell_type": "code",
      "source": [
        "model2 = MLPClassifier(random_state=9,\n",
        "                       max_iter=500).fit(X_train, y_train)\n",
        "model2.score(X_test, y_test)"
      ],
      "metadata": {
        "colab": {
          "base_uri": "https://localhost:8080/"
        },
        "id": "9y-tPyIlKSNA",
        "outputId": "bec49d5c-b72b-4a13-ae3e-4c490d29d5ae"
      },
      "execution_count": 23,
      "outputs": [
        {
          "output_type": "stream",
          "name": "stderr",
          "text": [
            "/usr/local/lib/python3.10/dist-packages/sklearn/neural_network/_multilayer_perceptron.py:686: ConvergenceWarning: Stochastic Optimizer: Maximum iterations (500) reached and the optimization hasn't converged yet.\n",
            "  warnings.warn(\n"
          ]
        },
        {
          "output_type": "execute_result",
          "data": {
            "text/plain": [
              "0.8309859154929577"
            ]
          },
          "metadata": {},
          "execution_count": 23
        }
      ]
    },
    {
      "cell_type": "code",
      "source": [
        "y_pred2 = model2.predict(X_test)\n",
        "print(classification_report(y_test, y_pred2))"
      ],
      "metadata": {
        "colab": {
          "base_uri": "https://localhost:8080/"
        },
        "id": "k8xN4W1oKnC6",
        "outputId": "1ce86740-59fd-402d-e103-eb6e9f4ef7d4"
      },
      "execution_count": 24,
      "outputs": [
        {
          "output_type": "stream",
          "name": "stdout",
          "text": [
            "              precision    recall  f1-score   support\n",
            "\n",
            "           0       0.84      0.79      0.82        34\n",
            "           1       0.82      0.86      0.84        37\n",
            "\n",
            "    accuracy                           0.83        71\n",
            "   macro avg       0.83      0.83      0.83        71\n",
            "weighted avg       0.83      0.83      0.83        71\n",
            "\n"
          ]
        }
      ]
    },
    {
      "cell_type": "code",
      "source": [
        "cm2 = confusion_matrix(y_test, y_pred2, labels=None)\n",
        "\n",
        "disp = ConfusionMatrixDisplay(confusion_matrix=cm2, display_labels=None)\n",
        "disp.plot()"
      ],
      "metadata": {
        "colab": {
          "base_uri": "https://localhost:8080/",
          "height": 467
        },
        "id": "g6SQrwGN90b3",
        "outputId": "d6f3f4fd-f059-4763-9571-2eaf487174ba"
      },
      "execution_count": 25,
      "outputs": [
        {
          "output_type": "execute_result",
          "data": {
            "text/plain": [
              "<sklearn.metrics._plot.confusion_matrix.ConfusionMatrixDisplay at 0x7e3283cbf670>"
            ]
          },
          "metadata": {},
          "execution_count": 25
        },
        {
          "output_type": "display_data",
          "data": {
            "text/plain": [
              "<Figure size 640x480 with 2 Axes>"
            ],
            "image/png": "[encoded data removed]"
          },
          "metadata": {}
        }
      ]
    },
    {
      "cell_type": "markdown",
      "source": [
        "### Modelo 3\n",
        "Aumentaremos o número de neurônios na i-ésima camada oculta e, novamente, as épocas"
      ],
      "metadata": {
        "id": "1qZ0QVQWK1hs"
      }
    },
    {
      "cell_type": "code",
      "source": [
        "model3 = MLPClassifier(random_state=9,\n",
        "                       hidden_layer_sizes=(500,),\n",
        "                       max_iter=1000).fit(X_train, y_train)\n",
        "model3.score(X_test, y_test)"
      ],
      "metadata": {
        "colab": {
          "base_uri": "https://localhost:8080/"
        },
        "id": "cNppcKzuLE_P",
        "outputId": "1e690539-8795-412d-d7ef-7bdb684dfa22"
      },
      "execution_count": 26,
      "outputs": [
        {
          "output_type": "stream",
          "name": "stderr",
          "text": [
            "/usr/local/lib/python3.10/dist-packages/sklearn/neural_network/_multilayer_perceptron.py:686: ConvergenceWarning: Stochastic Optimizer: Maximum iterations (1000) reached and the optimization hasn't converged yet.\n",
            "  warnings.warn(\n"
          ]
        },
        {
          "output_type": "execute_result",
          "data": {
            "text/plain": [
              "0.8309859154929577"
            ]
          },
          "metadata": {},
          "execution_count": 26
        }
      ]
    },
    {
      "cell_type": "code",
      "source": [
        "y_pred3 = model3.predict(X_test)\n",
        "print(classification_report(y_test, y_pred3))"
      ],
      "metadata": {
        "colab": {
          "base_uri": "https://localhost:8080/"
        },
        "id": "8_iZGiO7LaUp",
        "outputId": "fa898231-bc7d-489b-92c5-7970cff94e44"
      },
      "execution_count": 27,
      "outputs": [
        {
          "output_type": "stream",
          "name": "stdout",
          "text": [
            "              precision    recall  f1-score   support\n",
            "\n",
            "           0       0.84      0.79      0.82        34\n",
            "           1       0.82      0.86      0.84        37\n",
            "\n",
            "    accuracy                           0.83        71\n",
            "   macro avg       0.83      0.83      0.83        71\n",
            "weighted avg       0.83      0.83      0.83        71\n",
            "\n"
          ]
        }
      ]
    },
    {
      "cell_type": "code",
      "source": [
        "cm3 = confusion_matrix(y_test, y_pred3, labels=None)\n",
        "\n",
        "disp = ConfusionMatrixDisplay(confusion_matrix=cm3, display_labels=None)\n",
        "disp.plot()"
      ],
      "metadata": {
        "colab": {
          "base_uri": "https://localhost:8080/",
          "height": 467
        },
        "id": "68w1tKtd-BvJ",
        "outputId": "9e8c3850-47cd-4125-e3b6-468c65c31951"
      },
      "execution_count": 28,
      "outputs": [
        {
          "output_type": "execute_result",
          "data": {
            "text/plain": [
              "<sklearn.metrics._plot.confusion_matrix.ConfusionMatrixDisplay at 0x7e3281137e20>"
            ]
          },
          "metadata": {},
          "execution_count": 28
        },
        {
          "output_type": "display_data",
          "data": {
            "text/plain": [
              "<Figure size 640x480 with 2 Axes>"
            ],
            "image/png": "[encoded data removed]"
          },
          "metadata": {}
        }
      ]
    },
    {
      "cell_type": "markdown",
      "source": [
        "### Modelo 4\n",
        "Learning Rate inicial menor e adaptativa, com mais épocas."
      ],
      "metadata": {
        "id": "6MHnCZ81MCDT"
      }
    },
    {
      "cell_type": "code",
      "source": [
        "model4 = MLPClassifier(random_state=9,\n",
        "                       hidden_layer_sizes=(500,),\n",
        "                       max_iter=1000,\n",
        "                       learning_rate='adaptive',\n",
        "                       learning_rate_init=0.0001).fit(X_train, y_train)\n",
        "model4.score(X_test, y_test)"
      ],
      "metadata": {
        "colab": {
          "base_uri": "https://localhost:8080/"
        },
        "id": "0AutFGFOMBmh",
        "outputId": "dda583fd-a833-42dc-91c4-cccd98d25053"
      },
      "execution_count": 29,
      "outputs": [
        {
          "output_type": "stream",
          "name": "stderr",
          "text": [
            "/usr/local/lib/python3.10/dist-packages/sklearn/neural_network/_multilayer_perceptron.py:686: ConvergenceWarning: Stochastic Optimizer: Maximum iterations (1000) reached and the optimization hasn't converged yet.\n",
            "  warnings.warn(\n"
          ]
        },
        {
          "output_type": "execute_result",
          "data": {
            "text/plain": [
              "0.8309859154929577"
            ]
          },
          "metadata": {},
          "execution_count": 29
        }
      ]
    },
    {
      "cell_type": "code",
      "source": [
        "y_pred4 = model4.predict(X_test)\n",
        "print(classification_report(y_test, y_pred4))"
      ],
      "metadata": {
        "colab": {
          "base_uri": "https://localhost:8080/"
        },
        "id": "kHajmJE-M2q4",
        "outputId": "e1831565-2f84-4c79-e50b-f498cdf6566e"
      },
      "execution_count": 30,
      "outputs": [
        {
          "output_type": "stream",
          "name": "stdout",
          "text": [
            "              precision    recall  f1-score   support\n",
            "\n",
            "           0       0.81      0.85      0.83        34\n",
            "           1       0.86      0.81      0.83        37\n",
            "\n",
            "    accuracy                           0.83        71\n",
            "   macro avg       0.83      0.83      0.83        71\n",
            "weighted avg       0.83      0.83      0.83        71\n",
            "\n"
          ]
        }
      ]
    },
    {
      "cell_type": "code",
      "source": [
        "cm4 = confusion_matrix(y_test, y_pred4, labels=None)\n",
        "\n",
        "disp = ConfusionMatrixDisplay(confusion_matrix=cm4, display_labels=None)\n",
        "disp.plot()"
      ],
      "metadata": {
        "colab": {
          "base_uri": "https://localhost:8080/",
          "height": 473
        },
        "id": "AnQ2V8kA-PxK",
        "outputId": "c797711a-319c-4186-dabe-bd8837e730eb"
      },
      "execution_count": 31,
      "outputs": [
        {
          "output_type": "execute_result",
          "data": {
            "text/plain": [
              "<sklearn.metrics._plot.confusion_matrix.ConfusionMatrixDisplay at 0x7e3281137310>"
            ]
          },
          "metadata": {},
          "execution_count": 31
        },
        {
          "output_type": "display_data",
          "data": {
            "text/plain": [
              "<Figure size 640x480 with 2 Axes>"
            ],
            "image/png": "[encoded data removed]"
          },
          "metadata": {}
        }
      ]
    },
    {
      "cell_type": "markdown",
      "source": [
        "### Modelo 5\n",
        "Aumentaremos o ainda mais número de neurônios na i-ésima camada oculta e, novamente, as épocas (como no modelo 3)"
      ],
      "metadata": {
        "id": "i_JhZCsgGmCo"
      }
    },
    {
      "cell_type": "code",
      "source": [
        "model5 = MLPClassifier(random_state=9,\n",
        "                       hidden_layer_sizes=(700,),\n",
        "                       max_iter=1000).fit(X_train, y_train)\n",
        "model5.score(X_test, y_test)"
      ],
      "metadata": {
        "colab": {
          "base_uri": "https://localhost:8080/"
        },
        "id": "xGqXOEmkGwo6",
        "outputId": "6b2062f8-85cb-4bab-a515-8bf095e56ea2"
      },
      "execution_count": 32,
      "outputs": [
        {
          "output_type": "stream",
          "name": "stderr",
          "text": [
            "/usr/local/lib/python3.10/dist-packages/sklearn/neural_network/_multilayer_perceptron.py:686: ConvergenceWarning: Stochastic Optimizer: Maximum iterations (1000) reached and the optimization hasn't converged yet.\n",
            "  warnings.warn(\n"
          ]
        },
        {
          "output_type": "execute_result",
          "data": {
            "text/plain": [
              "0.8450704225352113"
            ]
          },
          "metadata": {},
          "execution_count": 32
        }
      ]
    },
    {
      "cell_type": "code",
      "source": [
        "y_pred5 = model5.predict(X_test)\n",
        "print(classification_report(y_test, y_pred5))"
      ],
      "metadata": {
        "colab": {
          "base_uri": "https://localhost:8080/"
        },
        "id": "nqNRdo7uG2nU",
        "outputId": "6bb624a6-9265-4434-bb6f-20e40c67a4bb"
      },
      "execution_count": 33,
      "outputs": [
        {
          "output_type": "stream",
          "name": "stdout",
          "text": [
            "              precision    recall  f1-score   support\n",
            "\n",
            "           0       0.87      0.79      0.83        34\n",
            "           1       0.82      0.89      0.86        37\n",
            "\n",
            "    accuracy                           0.85        71\n",
            "   macro avg       0.85      0.84      0.84        71\n",
            "weighted avg       0.85      0.85      0.84        71\n",
            "\n"
          ]
        }
      ]
    },
    {
      "cell_type": "code",
      "source": [
        "cm5 = confusion_matrix(y_test, y_pred5, labels=None)\n",
        "\n",
        "disp = ConfusionMatrixDisplay(confusion_matrix=cm5, display_labels=None)\n",
        "disp.plot()"
      ],
      "metadata": {
        "colab": {
          "base_uri": "https://localhost:8080/",
          "height": 467
        },
        "id": "ZsRvYdMc-cvv",
        "outputId": "a23f416c-872a-49c5-f9bf-9f5c25784cc9"
      },
      "execution_count": 34,
      "outputs": [
        {
          "output_type": "execute_result",
          "data": {
            "text/plain": [
              "<sklearn.metrics._plot.confusion_matrix.ConfusionMatrixDisplay at 0x7e32810a3d60>"
            ]
          },
          "metadata": {},
          "execution_count": 34
        },
        {
          "output_type": "display_data",
          "data": {
            "text/plain": [
              "<Figure size 640x480 with 2 Axes>"
            ],
            "image/png": "[encoded data removed]"
          },
          "metadata": {}
        }
      ]
    },
    {
      "cell_type": "markdown",
      "source": [
        "### Procurando o melhor modelo"
      ],
      "metadata": {
        "id": "JD0W_b08O4K6"
      }
    },
    {
      "cell_type": "markdown",
      "source": [
        "Em busca de varrer varios setups e achar o melhor modelo entre eles, usamos GridSearch."
      ],
      "metadata": {
        "id": "v3p0lCSHPAev"
      }
    },
    {
      "cell_type": "code",
      "source": [
        "import warnings\n",
        "from sklearn.exceptions import ConvergenceWarning\n",
        "warnings.filterwarnings('ignore', category=ConvergenceWarning)\n",
        "\n",
        "params = {'random_state': [9],\n",
        "          'hidden_layer_sizes': [(100,), (200,), (500,), (700,)],\n",
        "          'max_iter': [200, 500, 1000, 2000],\n",
        "          'learning_rate': ['constant', 'adaptive'],\n",
        "          'learning_rate_init': [0.001, 0.005, 0.0001]}\n",
        "\n",
        "grid_search = GridSearchCV(MLPClassifier(), param_grid=params, cv = 5)\n",
        "grid_search.fit(X_train, y_train)\n",
        "cv_best_params = grid_search.best_params_\n",
        "\n",
        "model6 = MLPClassifier()\n",
        "model6.set_params(random_state = cv_best_params['random_state'],\n",
        "                  hidden_layer_sizes = cv_best_params['hidden_layer_sizes'],\n",
        "                  max_iter = cv_best_params['max_iter'],\n",
        "                  learning_rate = cv_best_params['learning_rate'],\n",
        "                  learning_rate_init = cv_best_params['learning_rate_init'])\n",
        "model6.fit(X_train, y_train)"
      ],
      "metadata": {
        "colab": {
          "base_uri": "https://localhost:8080/",
          "height": 92
        },
        "id": "x-1Kt27qnFL5",
        "outputId": "3d27b57f-0858-4f46-8fb4-3802f2962536"
      },
      "execution_count": 35,
      "outputs": [
        {
          "output_type": "execute_result",
          "data": {
            "text/plain": [
              "MLPClassifier(hidden_layer_sizes=(200,), learning_rate_init=0.005,\n",
              "              random_state=9)"
            ],
            "text/html": [
              "<style>#sk-container-id-1 {color: black;background-color: white;}#sk-container-id-1 pre{padding: 0;}#sk-container-id-1 div.sk-toggleable {background-color: white;}#sk-container-id-1 label.sk-toggleable__label {cursor: pointer;display: block;width: 100%;margin-bottom: 0;padding: 0.3em;box-sizing: border-box;text-align: center;}#sk-container-id-1 label.sk-toggleable__label-arrow:before {content: \"▸\";float: left;margin-right: 0.25em;color: #696969;}#sk-container-id-1 label.sk-toggleable__label-arrow:hover:before {color: black;}#sk-container-id-1 div.sk-estimator:hover label.sk-toggleable__label-arrow:before {color: black;}#sk-container-id-1 div.sk-toggleable__content {max-height: 0;max-width: 0;overflow: hidden;text-align: left;background-color: #f0f8ff;}#sk-container-id-1 div.sk-toggleable__content pre {margin: 0.2em;color: black;border-radius: 0.25em;background-color: #f0f8ff;}#sk-container-id-1 input.sk-toggleable__control:checked~div.sk-toggleable__content {max-height: 200px;max-width: 100%;overflow: auto;}#sk-container-id-1 input.sk-toggleable__control:checked~label.sk-toggleable__label-arrow:before {content: \"▾\";}#sk-container-id-1 div.sk-estimator input.sk-toggleable__control:checked~label.sk-toggleable__label {background-color: #d4ebff;}#sk-container-id-1 div.sk-label input.sk-toggleable__control:checked~label.sk-toggleable__label {background-color: #d4ebff;}#sk-container-id-1 input.sk-hidden--visually {border: 0;clip: rect(1px 1px 1px 1px);clip: rect(1px, 1px, 1px, 1px);height: 1px;margin: -1px;overflow: hidden;padding: 0;position: absolute;width: 1px;}#sk-container-id-1 div.sk-estimator {font-family: monospace;background-color: #f0f8ff;border: 1px dotted black;border-radius: 0.25em;box-sizing: border-box;margin-bottom: 0.5em;}#sk-container-id-1 div.sk-estimator:hover {background-color: #d4ebff;}#sk-container-id-1 div.sk-parallel-item::after {content: \"\";width: 100%;border-bottom: 1px solid gray;flex-grow: 1;}#sk-container-id-1 div.sk-label:hover label.sk-toggleable__label {background-color: #d4ebff;}#sk-container-id-1 div.sk-serial::before {content: \"\";position: absolute;border-left: 1px solid gray;box-sizing: border-box;top: 0;bottom: 0;left: 50%;z-index: 0;}#sk-container-id-1 div.sk-serial {display: flex;flex-direction: column;align-items: center;background-color: white;padding-right: 0.2em;padding-left: 0.2em;position: relative;}#sk-container-id-1 div.sk-item {position: relative;z-index: 1;}#sk-container-id-1 div.sk-parallel {display: flex;align-items: stretch;justify-content: center;background-color: white;position: relative;}#sk-container-id-1 div.sk-item::before, #sk-container-id-1 div.sk-parallel-item::before {content: \"\";position: absolute;border-left: 1px solid gray;box-sizing: border-box;top: 0;bottom: 0;left: 50%;z-index: -1;}#sk-container-id-1 div.sk-parallel-item {display: flex;flex-direction: column;z-index: 1;position: relative;background-color: white;}#sk-container-id-1 div.sk-parallel-item:first-child::after {align-self: flex-end;width: 50%;}#sk-container-id-1 div.sk-parallel-item:last-child::after {align-self: flex-start;width: 50%;}#sk-container-id-1 div.sk-parallel-item:only-child::after {width: 0;}#sk-container-id-1 div.sk-dashed-wrapped {border: 1px dashed gray;margin: 0 0.4em 0.5em 0.4em;box-sizing: border-box;padding-bottom: 0.4em;background-color: white;}#sk-container-id-1 div.sk-label label {font-family: monospace;font-weight: bold;display: inline-block;line-height: 1.2em;}#sk-container-id-1 div.sk-label-container {text-align: center;}#sk-container-id-1 div.sk-container {/* jupyter's `normalize.less` sets `[hidden] { display: none; }` but bootstrap.min.css set `[hidden] { display: none !important; }` so we also need the `!important` here to be able to override the default hidden behavior on the sphinx rendered scikit-learn.org. See: https://github.com/scikit-learn/scikit-learn/issues/21755 */display: inline-block !important;position: relative;}#sk-container-id-1 div.sk-text-repr-fallback {display: none;}</style><div id=\"sk-container-id-1\" class=\"sk-top-container\"><div class=\"sk-text-repr-fallback\"><pre>MLPClassifier(hidden_layer_sizes=(200,), learning_rate_init=0.005,\n",
              "              random_state=9)</pre><b>In a Jupyter environment, please rerun this cell to show the HTML representation or trust the notebook. <br />On GitHub, the HTML representation is unable to render, please try loading this page with nbviewer.org.</b></div><div class=\"sk-container\" hidden><div class=\"sk-item\"><div class=\"sk-estimator sk-toggleable\"><input class=\"sk-toggleable__control sk-hidden--visually\" id=\"sk-estimator-id-1\" type=\"checkbox\" checked><label for=\"sk-estimator-id-1\" class=\"sk-toggleable__label sk-toggleable__label-arrow\">MLPClassifier</label><div class=\"sk-toggleable__content\"><pre>MLPClassifier(hidden_layer_sizes=(200,), learning_rate_init=0.005,\n",
              "              random_state=9)</pre></div></div></div></div></div>"
            ]
          },
          "metadata": {},
          "execution_count": 35
        }
      ]
    },
    {
      "cell_type": "code",
      "source": [
        "model6.score(X_test, y_test)"
      ],
      "metadata": {
        "colab": {
          "base_uri": "https://localhost:8080/"
        },
        "id": "Hi5ZdbmznKoh",
        "outputId": "3ee0d614-aede-4dc8-90e9-7ea85220a979"
      },
      "execution_count": 36,
      "outputs": [
        {
          "output_type": "execute_result",
          "data": {
            "text/plain": [
              "0.8591549295774648"
            ]
          },
          "metadata": {},
          "execution_count": 36
        }
      ]
    },
    {
      "cell_type": "code",
      "source": [
        "y_pred6 = model6.predict(X_test)\n",
        "print(classification_report(y_test, y_pred6))"
      ],
      "metadata": {
        "colab": {
          "base_uri": "https://localhost:8080/"
        },
        "id": "pegtdspqnPoY",
        "outputId": "1b0b2ff3-f9b5-4136-afcc-3e2af0421dd9"
      },
      "execution_count": 37,
      "outputs": [
        {
          "output_type": "stream",
          "name": "stdout",
          "text": [
            "              precision    recall  f1-score   support\n",
            "\n",
            "           0       0.88      0.82      0.85        34\n",
            "           1       0.85      0.89      0.87        37\n",
            "\n",
            "    accuracy                           0.86        71\n",
            "   macro avg       0.86      0.86      0.86        71\n",
            "weighted avg       0.86      0.86      0.86        71\n",
            "\n"
          ]
        }
      ]
    },
    {
      "cell_type": "code",
      "source": [
        "cm6 = confusion_matrix(y_test, y_pred6, labels=None)\n",
        "\n",
        "disp = ConfusionMatrixDisplay(confusion_matrix=cm6, display_labels=None)\n",
        "disp.plot()"
      ],
      "metadata": {
        "colab": {
          "base_uri": "https://localhost:8080/",
          "height": 467
        },
        "id": "Mv01xt9KnRp-",
        "outputId": "c32577bb-8cc9-41f4-c36f-f6adfbc454f5"
      },
      "execution_count": 38,
      "outputs": [
        {
          "output_type": "execute_result",
          "data": {
            "text/plain": [
              "<sklearn.metrics._plot.confusion_matrix.ConfusionMatrixDisplay at 0x7e3280f639a0>"
            ]
          },
          "metadata": {},
          "execution_count": 38
        },
        {
          "output_type": "display_data",
          "data": {
            "text/plain": [
              "<Figure size 640x480 with 2 Axes>"
            ],
            "image/png": "[encoded data removed]"
          },
          "metadata": {}
        }
      ]
    },
    {
      "cell_type": "markdown",
      "source": [
        "---"
      ],
      "metadata": {
        "id": "Tf28evbas-7d"
      }
    },
    {
      "cell_type": "markdown",
      "source": [
        "## Conclusões\n",
        "<p align=\"justify\">\n",
        "Analisando os resultados dos seis modelos, podemos perceber que o que se saiu melhor em relação às métricas adotadas foi o Modelo 6. Enquanto os modelos 1 e 2 pareceram não conseguir extrair as características necessárias, devido ao número reduzido de camadas, os modelos 3, 4 e 5 podem ter sofrido overfittng ou estagnado em ritmos de aprendizado baixos demais. O modelo 6 utilizou a estratégia de grid search para buscar os melhores parâmetros que resultassem no melhor modelo."
      ],
      "metadata": {
        "id": "3wkzAPVuNLl1"
      }
    }
  ]
}